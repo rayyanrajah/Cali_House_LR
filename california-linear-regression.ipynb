{
 "cells": [
  {
   "cell_type": "code",
   "execution_count": 1,
   "id": "43f5415f",
   "metadata": {
    "_cell_guid": "b1076dfc-b9ad-4769-8c92-a6c4dae69d19",
    "_uuid": "8f2839f25d086af736a60e9eeb907d3b93b6e0e5",
    "execution": {
     "iopub.execute_input": "2022-07-08T14:07:59.181765Z",
     "iopub.status.busy": "2022-07-08T14:07:59.181097Z",
     "iopub.status.idle": "2022-07-08T14:07:59.203184Z",
     "shell.execute_reply": "2022-07-08T14:07:59.202320Z"
    },
    "papermill": {
     "duration": 0.034529,
     "end_time": "2022-07-08T14:07:59.205741",
     "exception": false,
     "start_time": "2022-07-08T14:07:59.171212",
     "status": "completed"
    },
    "tags": []
   },
   "outputs": [
    {
     "name": "stdout",
     "output_type": "stream",
     "text": [
      "/kaggle/input/california-housing-prices/housing.csv\n"
     ]
    }
   ],
   "source": [
    "# This Python 3 environment comes with many helpful analytics libraries installed\n",
    "# It is defined by the kaggle/python Docker image: https://github.com/kaggle/docker-python\n",
    "# For example, here's several helpful packages to load\n",
    "\n",
    "import numpy as np # linear algebra\n",
    "import pandas as pd # data processing, CSV file I/O (e.g. pd.read_csv)\n",
    "np.set_printoptions(precision=2)\n",
    "\n",
    "# Input data files are available in the read-only \"../input/\" directory\n",
    "# For example, running this (by clicking run or pressing Shift+Enter) will list all files under the input directory\n",
    "\n",
    "import os\n",
    "for dirname, _, filenames in os.walk('/kaggle/input'):\n",
    "    for filename in filenames:\n",
    "        print(os.path.join(dirname, filename))\n",
    "\n",
    "# You can write up to 20GB to the current directory (/kaggle/working/) that gets preserved as output when you create a version using \"Save & Run All\" \n",
    "# You can also write temporary files to /kaggle/temp/, but they won't be saved outside of the current session"
   ]
  },
  {
   "cell_type": "markdown",
   "id": "c11b3fa8",
   "metadata": {
    "papermill": {
     "duration": 0.007372,
     "end_time": "2022-07-08T14:07:59.220355",
     "exception": false,
     "start_time": "2022-07-08T14:07:59.212983",
     "status": "completed"
    },
    "tags": []
   },
   "source": [
    "### Import data"
   ]
  },
  {
   "cell_type": "code",
   "execution_count": 2,
   "id": "153ca446",
   "metadata": {
    "execution": {
     "iopub.execute_input": "2022-07-08T14:07:59.237757Z",
     "iopub.status.busy": "2022-07-08T14:07:59.236978Z",
     "iopub.status.idle": "2022-07-08T14:07:59.321603Z",
     "shell.execute_reply": "2022-07-08T14:07:59.320162Z"
    },
    "papermill": {
     "duration": 0.096379,
     "end_time": "2022-07-08T14:07:59.324192",
     "exception": false,
     "start_time": "2022-07-08T14:07:59.227813",
     "status": "completed"
    },
    "tags": []
   },
   "outputs": [
    {
     "data": {
      "text/html": [
       "<div>\n",
       "<style scoped>\n",
       "    .dataframe tbody tr th:only-of-type {\n",
       "        vertical-align: middle;\n",
       "    }\n",
       "\n",
       "    .dataframe tbody tr th {\n",
       "        vertical-align: top;\n",
       "    }\n",
       "\n",
       "    .dataframe thead th {\n",
       "        text-align: right;\n",
       "    }\n",
       "</style>\n",
       "<table border=\"1\" class=\"dataframe\">\n",
       "  <thead>\n",
       "    <tr style=\"text-align: right;\">\n",
       "      <th></th>\n",
       "      <th>longitude</th>\n",
       "      <th>latitude</th>\n",
       "      <th>housing_median_age</th>\n",
       "      <th>total_rooms</th>\n",
       "      <th>total_bedrooms</th>\n",
       "      <th>population</th>\n",
       "      <th>households</th>\n",
       "      <th>median_income</th>\n",
       "      <th>median_house_value</th>\n",
       "      <th>ocean_proximity</th>\n",
       "    </tr>\n",
       "  </thead>\n",
       "  <tbody>\n",
       "    <tr>\n",
       "      <th>0</th>\n",
       "      <td>-122.23</td>\n",
       "      <td>37.88</td>\n",
       "      <td>41.0</td>\n",
       "      <td>880.0</td>\n",
       "      <td>129.0</td>\n",
       "      <td>322.0</td>\n",
       "      <td>126.0</td>\n",
       "      <td>8.3252</td>\n",
       "      <td>452600.0</td>\n",
       "      <td>NEAR BAY</td>\n",
       "    </tr>\n",
       "    <tr>\n",
       "      <th>1</th>\n",
       "      <td>-122.22</td>\n",
       "      <td>37.86</td>\n",
       "      <td>21.0</td>\n",
       "      <td>7099.0</td>\n",
       "      <td>1106.0</td>\n",
       "      <td>2401.0</td>\n",
       "      <td>1138.0</td>\n",
       "      <td>8.3014</td>\n",
       "      <td>358500.0</td>\n",
       "      <td>NEAR BAY</td>\n",
       "    </tr>\n",
       "    <tr>\n",
       "      <th>2</th>\n",
       "      <td>-122.24</td>\n",
       "      <td>37.85</td>\n",
       "      <td>52.0</td>\n",
       "      <td>1467.0</td>\n",
       "      <td>190.0</td>\n",
       "      <td>496.0</td>\n",
       "      <td>177.0</td>\n",
       "      <td>7.2574</td>\n",
       "      <td>352100.0</td>\n",
       "      <td>NEAR BAY</td>\n",
       "    </tr>\n",
       "    <tr>\n",
       "      <th>3</th>\n",
       "      <td>-122.25</td>\n",
       "      <td>37.85</td>\n",
       "      <td>52.0</td>\n",
       "      <td>1274.0</td>\n",
       "      <td>235.0</td>\n",
       "      <td>558.0</td>\n",
       "      <td>219.0</td>\n",
       "      <td>5.6431</td>\n",
       "      <td>341300.0</td>\n",
       "      <td>NEAR BAY</td>\n",
       "    </tr>\n",
       "    <tr>\n",
       "      <th>4</th>\n",
       "      <td>-122.25</td>\n",
       "      <td>37.85</td>\n",
       "      <td>52.0</td>\n",
       "      <td>1627.0</td>\n",
       "      <td>280.0</td>\n",
       "      <td>565.0</td>\n",
       "      <td>259.0</td>\n",
       "      <td>3.8462</td>\n",
       "      <td>342200.0</td>\n",
       "      <td>NEAR BAY</td>\n",
       "    </tr>\n",
       "  </tbody>\n",
       "</table>\n",
       "</div>"
      ],
      "text/plain": [
       "   longitude  latitude  housing_median_age  total_rooms  total_bedrooms  \\\n",
       "0    -122.23     37.88                41.0        880.0           129.0   \n",
       "1    -122.22     37.86                21.0       7099.0          1106.0   \n",
       "2    -122.24     37.85                52.0       1467.0           190.0   \n",
       "3    -122.25     37.85                52.0       1274.0           235.0   \n",
       "4    -122.25     37.85                52.0       1627.0           280.0   \n",
       "\n",
       "   population  households  median_income  median_house_value ocean_proximity  \n",
       "0       322.0       126.0         8.3252            452600.0        NEAR BAY  \n",
       "1      2401.0      1138.0         8.3014            358500.0        NEAR BAY  \n",
       "2       496.0       177.0         7.2574            352100.0        NEAR BAY  \n",
       "3       558.0       219.0         5.6431            341300.0        NEAR BAY  \n",
       "4       565.0       259.0         3.8462            342200.0        NEAR BAY  "
      ]
     },
     "execution_count": 2,
     "metadata": {},
     "output_type": "execute_result"
    }
   ],
   "source": [
    "housing1 = pd.read_csv('/kaggle/input/california-housing-prices/housing.csv')\n",
    "housing1.head()"
   ]
  },
  {
   "cell_type": "code",
   "execution_count": 3,
   "id": "5ce59869",
   "metadata": {
    "execution": {
     "iopub.execute_input": "2022-07-08T14:07:59.341496Z",
     "iopub.status.busy": "2022-07-08T14:07:59.340365Z",
     "iopub.status.idle": "2022-07-08T14:07:59.368528Z",
     "shell.execute_reply": "2022-07-08T14:07:59.367340Z"
    },
    "papermill": {
     "duration": 0.039661,
     "end_time": "2022-07-08T14:07:59.371346",
     "exception": false,
     "start_time": "2022-07-08T14:07:59.331685",
     "status": "completed"
    },
    "tags": []
   },
   "outputs": [
    {
     "name": "stdout",
     "output_type": "stream",
     "text": [
      "<class 'pandas.core.frame.DataFrame'>\n",
      "RangeIndex: 20640 entries, 0 to 20639\n",
      "Data columns (total 10 columns):\n",
      " #   Column              Non-Null Count  Dtype  \n",
      "---  ------              --------------  -----  \n",
      " 0   longitude           20640 non-null  float64\n",
      " 1   latitude            20640 non-null  float64\n",
      " 2   housing_median_age  20640 non-null  float64\n",
      " 3   total_rooms         20640 non-null  float64\n",
      " 4   total_bedrooms      20433 non-null  float64\n",
      " 5   population          20640 non-null  float64\n",
      " 6   households          20640 non-null  float64\n",
      " 7   median_income       20640 non-null  float64\n",
      " 8   median_house_value  20640 non-null  float64\n",
      " 9   ocean_proximity     20640 non-null  object \n",
      "dtypes: float64(9), object(1)\n",
      "memory usage: 1.6+ MB\n"
     ]
    }
   ],
   "source": [
    "housing1.info()"
   ]
  },
  {
   "cell_type": "markdown",
   "id": "a157c7d6",
   "metadata": {
    "papermill": {
     "duration": 0.007188,
     "end_time": "2022-07-08T14:07:59.386583",
     "exception": false,
     "start_time": "2022-07-08T14:07:59.379395",
     "status": "completed"
    },
    "tags": []
   },
   "source": [
    "### Encode categorical variables (we used dummy encoding)"
   ]
  },
  {
   "cell_type": "code",
   "execution_count": 4,
   "id": "58d482b9",
   "metadata": {
    "execution": {
     "iopub.execute_input": "2022-07-08T14:07:59.403236Z",
     "iopub.status.busy": "2022-07-08T14:07:59.402565Z",
     "iopub.status.idle": "2022-07-08T14:07:59.416427Z",
     "shell.execute_reply": "2022-07-08T14:07:59.415555Z"
    },
    "papermill": {
     "duration": 0.024948,
     "end_time": "2022-07-08T14:07:59.418951",
     "exception": false,
     "start_time": "2022-07-08T14:07:59.394003",
     "status": "completed"
    },
    "tags": []
   },
   "outputs": [
    {
     "data": {
      "text/html": [
       "<div>\n",
       "<style scoped>\n",
       "    .dataframe tbody tr th:only-of-type {\n",
       "        vertical-align: middle;\n",
       "    }\n",
       "\n",
       "    .dataframe tbody tr th {\n",
       "        vertical-align: top;\n",
       "    }\n",
       "\n",
       "    .dataframe thead th {\n",
       "        text-align: right;\n",
       "    }\n",
       "</style>\n",
       "<table border=\"1\" class=\"dataframe\">\n",
       "  <thead>\n",
       "    <tr style=\"text-align: right;\">\n",
       "      <th></th>\n",
       "      <th>&lt;1H OCEAN</th>\n",
       "      <th>INLAND</th>\n",
       "      <th>ISLAND</th>\n",
       "      <th>NEAR BAY</th>\n",
       "      <th>NEAR OCEAN</th>\n",
       "    </tr>\n",
       "  </thead>\n",
       "  <tbody>\n",
       "    <tr>\n",
       "      <th>0</th>\n",
       "      <td>0</td>\n",
       "      <td>0</td>\n",
       "      <td>0</td>\n",
       "      <td>1</td>\n",
       "      <td>0</td>\n",
       "    </tr>\n",
       "    <tr>\n",
       "      <th>1</th>\n",
       "      <td>0</td>\n",
       "      <td>0</td>\n",
       "      <td>0</td>\n",
       "      <td>1</td>\n",
       "      <td>0</td>\n",
       "    </tr>\n",
       "    <tr>\n",
       "      <th>2</th>\n",
       "      <td>0</td>\n",
       "      <td>0</td>\n",
       "      <td>0</td>\n",
       "      <td>1</td>\n",
       "      <td>0</td>\n",
       "    </tr>\n",
       "    <tr>\n",
       "      <th>3</th>\n",
       "      <td>0</td>\n",
       "      <td>0</td>\n",
       "      <td>0</td>\n",
       "      <td>1</td>\n",
       "      <td>0</td>\n",
       "    </tr>\n",
       "    <tr>\n",
       "      <th>4</th>\n",
       "      <td>0</td>\n",
       "      <td>0</td>\n",
       "      <td>0</td>\n",
       "      <td>1</td>\n",
       "      <td>0</td>\n",
       "    </tr>\n",
       "  </tbody>\n",
       "</table>\n",
       "</div>"
      ],
      "text/plain": [
       "   <1H OCEAN  INLAND  ISLAND  NEAR BAY  NEAR OCEAN\n",
       "0          0       0       0         1           0\n",
       "1          0       0       0         1           0\n",
       "2          0       0       0         1           0\n",
       "3          0       0       0         1           0\n",
       "4          0       0       0         1           0"
      ]
     },
     "execution_count": 4,
     "metadata": {},
     "output_type": "execute_result"
    }
   ],
   "source": [
    "pd.get_dummies(housing1['ocean_proximity']).head()"
   ]
  },
  {
   "cell_type": "code",
   "execution_count": 5,
   "id": "0d45ca67",
   "metadata": {
    "execution": {
     "iopub.execute_input": "2022-07-08T14:07:59.436405Z",
     "iopub.status.busy": "2022-07-08T14:07:59.435989Z",
     "iopub.status.idle": "2022-07-08T14:07:59.457143Z",
     "shell.execute_reply": "2022-07-08T14:07:59.456327Z"
    },
    "papermill": {
     "duration": 0.032609,
     "end_time": "2022-07-08T14:07:59.459351",
     "exception": false,
     "start_time": "2022-07-08T14:07:59.426742",
     "status": "completed"
    },
    "tags": []
   },
   "outputs": [
    {
     "data": {
      "text/html": [
       "<div>\n",
       "<style scoped>\n",
       "    .dataframe tbody tr th:only-of-type {\n",
       "        vertical-align: middle;\n",
       "    }\n",
       "\n",
       "    .dataframe tbody tr th {\n",
       "        vertical-align: top;\n",
       "    }\n",
       "\n",
       "    .dataframe thead th {\n",
       "        text-align: right;\n",
       "    }\n",
       "</style>\n",
       "<table border=\"1\" class=\"dataframe\">\n",
       "  <thead>\n",
       "    <tr style=\"text-align: right;\">\n",
       "      <th></th>\n",
       "      <th>longitude</th>\n",
       "      <th>latitude</th>\n",
       "      <th>housing_median_age</th>\n",
       "      <th>total_rooms</th>\n",
       "      <th>total_bedrooms</th>\n",
       "      <th>population</th>\n",
       "      <th>households</th>\n",
       "      <th>median_income</th>\n",
       "      <th>median_house_value</th>\n",
       "    </tr>\n",
       "  </thead>\n",
       "  <tbody>\n",
       "    <tr>\n",
       "      <th>0</th>\n",
       "      <td>-122.23</td>\n",
       "      <td>37.88</td>\n",
       "      <td>41.0</td>\n",
       "      <td>880.0</td>\n",
       "      <td>129.0</td>\n",
       "      <td>322.0</td>\n",
       "      <td>126.0</td>\n",
       "      <td>8.3252</td>\n",
       "      <td>452600.0</td>\n",
       "    </tr>\n",
       "    <tr>\n",
       "      <th>1</th>\n",
       "      <td>-122.22</td>\n",
       "      <td>37.86</td>\n",
       "      <td>21.0</td>\n",
       "      <td>7099.0</td>\n",
       "      <td>1106.0</td>\n",
       "      <td>2401.0</td>\n",
       "      <td>1138.0</td>\n",
       "      <td>8.3014</td>\n",
       "      <td>358500.0</td>\n",
       "    </tr>\n",
       "    <tr>\n",
       "      <th>2</th>\n",
       "      <td>-122.24</td>\n",
       "      <td>37.85</td>\n",
       "      <td>52.0</td>\n",
       "      <td>1467.0</td>\n",
       "      <td>190.0</td>\n",
       "      <td>496.0</td>\n",
       "      <td>177.0</td>\n",
       "      <td>7.2574</td>\n",
       "      <td>352100.0</td>\n",
       "    </tr>\n",
       "    <tr>\n",
       "      <th>3</th>\n",
       "      <td>-122.25</td>\n",
       "      <td>37.85</td>\n",
       "      <td>52.0</td>\n",
       "      <td>1274.0</td>\n",
       "      <td>235.0</td>\n",
       "      <td>558.0</td>\n",
       "      <td>219.0</td>\n",
       "      <td>5.6431</td>\n",
       "      <td>341300.0</td>\n",
       "    </tr>\n",
       "    <tr>\n",
       "      <th>4</th>\n",
       "      <td>-122.25</td>\n",
       "      <td>37.85</td>\n",
       "      <td>52.0</td>\n",
       "      <td>1627.0</td>\n",
       "      <td>280.0</td>\n",
       "      <td>565.0</td>\n",
       "      <td>259.0</td>\n",
       "      <td>3.8462</td>\n",
       "      <td>342200.0</td>\n",
       "    </tr>\n",
       "  </tbody>\n",
       "</table>\n",
       "</div>"
      ],
      "text/plain": [
       "   longitude  latitude  housing_median_age  total_rooms  total_bedrooms  \\\n",
       "0    -122.23     37.88                41.0        880.0           129.0   \n",
       "1    -122.22     37.86                21.0       7099.0          1106.0   \n",
       "2    -122.24     37.85                52.0       1467.0           190.0   \n",
       "3    -122.25     37.85                52.0       1274.0           235.0   \n",
       "4    -122.25     37.85                52.0       1627.0           280.0   \n",
       "\n",
       "   population  households  median_income  median_house_value  \n",
       "0       322.0       126.0         8.3252            452600.0  \n",
       "1      2401.0      1138.0         8.3014            358500.0  \n",
       "2       496.0       177.0         7.2574            352100.0  \n",
       "3       558.0       219.0         5.6431            341300.0  \n",
       "4       565.0       259.0         3.8462            342200.0  "
      ]
     },
     "execution_count": 5,
     "metadata": {},
     "output_type": "execute_result"
    }
   ],
   "source": [
    "housing1.drop('ocean_proximity', axis=1).head()"
   ]
  },
  {
   "cell_type": "code",
   "execution_count": 6,
   "id": "bef4bb37",
   "metadata": {
    "execution": {
     "iopub.execute_input": "2022-07-08T14:07:59.477390Z",
     "iopub.status.busy": "2022-07-08T14:07:59.476965Z",
     "iopub.status.idle": "2022-07-08T14:07:59.511753Z",
     "shell.execute_reply": "2022-07-08T14:07:59.510871Z"
    },
    "papermill": {
     "duration": 0.046368,
     "end_time": "2022-07-08T14:07:59.513985",
     "exception": false,
     "start_time": "2022-07-08T14:07:59.467617",
     "status": "completed"
    },
    "tags": []
   },
   "outputs": [
    {
     "data": {
      "text/html": [
       "<div>\n",
       "<style scoped>\n",
       "    .dataframe tbody tr th:only-of-type {\n",
       "        vertical-align: middle;\n",
       "    }\n",
       "\n",
       "    .dataframe tbody tr th {\n",
       "        vertical-align: top;\n",
       "    }\n",
       "\n",
       "    .dataframe thead th {\n",
       "        text-align: right;\n",
       "    }\n",
       "</style>\n",
       "<table border=\"1\" class=\"dataframe\">\n",
       "  <thead>\n",
       "    <tr style=\"text-align: right;\">\n",
       "      <th></th>\n",
       "      <th>longitude</th>\n",
       "      <th>latitude</th>\n",
       "      <th>housing_median_age</th>\n",
       "      <th>total_rooms</th>\n",
       "      <th>total_bedrooms</th>\n",
       "      <th>population</th>\n",
       "      <th>households</th>\n",
       "      <th>median_income</th>\n",
       "      <th>median_house_value</th>\n",
       "      <th>&lt;1H OCEAN</th>\n",
       "      <th>INLAND</th>\n",
       "      <th>ISLAND</th>\n",
       "      <th>NEAR BAY</th>\n",
       "      <th>NEAR OCEAN</th>\n",
       "    </tr>\n",
       "  </thead>\n",
       "  <tbody>\n",
       "    <tr>\n",
       "      <th>0</th>\n",
       "      <td>-122.23</td>\n",
       "      <td>37.88</td>\n",
       "      <td>41.0</td>\n",
       "      <td>880.0</td>\n",
       "      <td>129.0</td>\n",
       "      <td>322.0</td>\n",
       "      <td>126.0</td>\n",
       "      <td>8.3252</td>\n",
       "      <td>452600.0</td>\n",
       "      <td>0</td>\n",
       "      <td>0</td>\n",
       "      <td>0</td>\n",
       "      <td>1</td>\n",
       "      <td>0</td>\n",
       "    </tr>\n",
       "    <tr>\n",
       "      <th>1</th>\n",
       "      <td>-122.22</td>\n",
       "      <td>37.86</td>\n",
       "      <td>21.0</td>\n",
       "      <td>7099.0</td>\n",
       "      <td>1106.0</td>\n",
       "      <td>2401.0</td>\n",
       "      <td>1138.0</td>\n",
       "      <td>8.3014</td>\n",
       "      <td>358500.0</td>\n",
       "      <td>0</td>\n",
       "      <td>0</td>\n",
       "      <td>0</td>\n",
       "      <td>1</td>\n",
       "      <td>0</td>\n",
       "    </tr>\n",
       "    <tr>\n",
       "      <th>2</th>\n",
       "      <td>-122.24</td>\n",
       "      <td>37.85</td>\n",
       "      <td>52.0</td>\n",
       "      <td>1467.0</td>\n",
       "      <td>190.0</td>\n",
       "      <td>496.0</td>\n",
       "      <td>177.0</td>\n",
       "      <td>7.2574</td>\n",
       "      <td>352100.0</td>\n",
       "      <td>0</td>\n",
       "      <td>0</td>\n",
       "      <td>0</td>\n",
       "      <td>1</td>\n",
       "      <td>0</td>\n",
       "    </tr>\n",
       "    <tr>\n",
       "      <th>3</th>\n",
       "      <td>-122.25</td>\n",
       "      <td>37.85</td>\n",
       "      <td>52.0</td>\n",
       "      <td>1274.0</td>\n",
       "      <td>235.0</td>\n",
       "      <td>558.0</td>\n",
       "      <td>219.0</td>\n",
       "      <td>5.6431</td>\n",
       "      <td>341300.0</td>\n",
       "      <td>0</td>\n",
       "      <td>0</td>\n",
       "      <td>0</td>\n",
       "      <td>1</td>\n",
       "      <td>0</td>\n",
       "    </tr>\n",
       "    <tr>\n",
       "      <th>4</th>\n",
       "      <td>-122.25</td>\n",
       "      <td>37.85</td>\n",
       "      <td>52.0</td>\n",
       "      <td>1627.0</td>\n",
       "      <td>280.0</td>\n",
       "      <td>565.0</td>\n",
       "      <td>259.0</td>\n",
       "      <td>3.8462</td>\n",
       "      <td>342200.0</td>\n",
       "      <td>0</td>\n",
       "      <td>0</td>\n",
       "      <td>0</td>\n",
       "      <td>1</td>\n",
       "      <td>0</td>\n",
       "    </tr>\n",
       "    <tr>\n",
       "      <th>...</th>\n",
       "      <td>...</td>\n",
       "      <td>...</td>\n",
       "      <td>...</td>\n",
       "      <td>...</td>\n",
       "      <td>...</td>\n",
       "      <td>...</td>\n",
       "      <td>...</td>\n",
       "      <td>...</td>\n",
       "      <td>...</td>\n",
       "      <td>...</td>\n",
       "      <td>...</td>\n",
       "      <td>...</td>\n",
       "      <td>...</td>\n",
       "      <td>...</td>\n",
       "    </tr>\n",
       "    <tr>\n",
       "      <th>20635</th>\n",
       "      <td>-121.09</td>\n",
       "      <td>39.48</td>\n",
       "      <td>25.0</td>\n",
       "      <td>1665.0</td>\n",
       "      <td>374.0</td>\n",
       "      <td>845.0</td>\n",
       "      <td>330.0</td>\n",
       "      <td>1.5603</td>\n",
       "      <td>78100.0</td>\n",
       "      <td>0</td>\n",
       "      <td>1</td>\n",
       "      <td>0</td>\n",
       "      <td>0</td>\n",
       "      <td>0</td>\n",
       "    </tr>\n",
       "    <tr>\n",
       "      <th>20636</th>\n",
       "      <td>-121.21</td>\n",
       "      <td>39.49</td>\n",
       "      <td>18.0</td>\n",
       "      <td>697.0</td>\n",
       "      <td>150.0</td>\n",
       "      <td>356.0</td>\n",
       "      <td>114.0</td>\n",
       "      <td>2.5568</td>\n",
       "      <td>77100.0</td>\n",
       "      <td>0</td>\n",
       "      <td>1</td>\n",
       "      <td>0</td>\n",
       "      <td>0</td>\n",
       "      <td>0</td>\n",
       "    </tr>\n",
       "    <tr>\n",
       "      <th>20637</th>\n",
       "      <td>-121.22</td>\n",
       "      <td>39.43</td>\n",
       "      <td>17.0</td>\n",
       "      <td>2254.0</td>\n",
       "      <td>485.0</td>\n",
       "      <td>1007.0</td>\n",
       "      <td>433.0</td>\n",
       "      <td>1.7000</td>\n",
       "      <td>92300.0</td>\n",
       "      <td>0</td>\n",
       "      <td>1</td>\n",
       "      <td>0</td>\n",
       "      <td>0</td>\n",
       "      <td>0</td>\n",
       "    </tr>\n",
       "    <tr>\n",
       "      <th>20638</th>\n",
       "      <td>-121.32</td>\n",
       "      <td>39.43</td>\n",
       "      <td>18.0</td>\n",
       "      <td>1860.0</td>\n",
       "      <td>409.0</td>\n",
       "      <td>741.0</td>\n",
       "      <td>349.0</td>\n",
       "      <td>1.8672</td>\n",
       "      <td>84700.0</td>\n",
       "      <td>0</td>\n",
       "      <td>1</td>\n",
       "      <td>0</td>\n",
       "      <td>0</td>\n",
       "      <td>0</td>\n",
       "    </tr>\n",
       "    <tr>\n",
       "      <th>20639</th>\n",
       "      <td>-121.24</td>\n",
       "      <td>39.37</td>\n",
       "      <td>16.0</td>\n",
       "      <td>2785.0</td>\n",
       "      <td>616.0</td>\n",
       "      <td>1387.0</td>\n",
       "      <td>530.0</td>\n",
       "      <td>2.3886</td>\n",
       "      <td>89400.0</td>\n",
       "      <td>0</td>\n",
       "      <td>1</td>\n",
       "      <td>0</td>\n",
       "      <td>0</td>\n",
       "      <td>0</td>\n",
       "    </tr>\n",
       "  </tbody>\n",
       "</table>\n",
       "<p>20640 rows × 14 columns</p>\n",
       "</div>"
      ],
      "text/plain": [
       "       longitude  latitude  housing_median_age  total_rooms  total_bedrooms  \\\n",
       "0        -122.23     37.88                41.0        880.0           129.0   \n",
       "1        -122.22     37.86                21.0       7099.0          1106.0   \n",
       "2        -122.24     37.85                52.0       1467.0           190.0   \n",
       "3        -122.25     37.85                52.0       1274.0           235.0   \n",
       "4        -122.25     37.85                52.0       1627.0           280.0   \n",
       "...          ...       ...                 ...          ...             ...   \n",
       "20635    -121.09     39.48                25.0       1665.0           374.0   \n",
       "20636    -121.21     39.49                18.0        697.0           150.0   \n",
       "20637    -121.22     39.43                17.0       2254.0           485.0   \n",
       "20638    -121.32     39.43                18.0       1860.0           409.0   \n",
       "20639    -121.24     39.37                16.0       2785.0           616.0   \n",
       "\n",
       "       population  households  median_income  median_house_value  <1H OCEAN  \\\n",
       "0           322.0       126.0         8.3252            452600.0          0   \n",
       "1          2401.0      1138.0         8.3014            358500.0          0   \n",
       "2           496.0       177.0         7.2574            352100.0          0   \n",
       "3           558.0       219.0         5.6431            341300.0          0   \n",
       "4           565.0       259.0         3.8462            342200.0          0   \n",
       "...           ...         ...            ...                 ...        ...   \n",
       "20635       845.0       330.0         1.5603             78100.0          0   \n",
       "20636       356.0       114.0         2.5568             77100.0          0   \n",
       "20637      1007.0       433.0         1.7000             92300.0          0   \n",
       "20638       741.0       349.0         1.8672             84700.0          0   \n",
       "20639      1387.0       530.0         2.3886             89400.0          0   \n",
       "\n",
       "       INLAND  ISLAND  NEAR BAY  NEAR OCEAN  \n",
       "0           0       0         1           0  \n",
       "1           0       0         1           0  \n",
       "2           0       0         1           0  \n",
       "3           0       0         1           0  \n",
       "4           0       0         1           0  \n",
       "...       ...     ...       ...         ...  \n",
       "20635       1       0         0           0  \n",
       "20636       1       0         0           0  \n",
       "20637       1       0         0           0  \n",
       "20638       1       0         0           0  \n",
       "20639       1       0         0           0  \n",
       "\n",
       "[20640 rows x 14 columns]"
      ]
     },
     "execution_count": 6,
     "metadata": {},
     "output_type": "execute_result"
    }
   ],
   "source": [
    "housing2 = pd.concat([housing1.drop('ocean_proximity', axis=1),\n",
    "                              pd.get_dummies(housing1['ocean_proximity'])], axis=1)\n",
    "housing2"
   ]
  },
  {
   "cell_type": "markdown",
   "id": "6c91f74a",
   "metadata": {
    "papermill": {
     "duration": 0.007909,
     "end_time": "2022-07-08T14:07:59.530214",
     "exception": false,
     "start_time": "2022-07-08T14:07:59.522305",
     "status": "completed"
    },
    "tags": []
   },
   "source": [
    "### Deal with missing data (we used KNN imputation)"
   ]
  },
  {
   "cell_type": "code",
   "execution_count": 7,
   "id": "668ac70a",
   "metadata": {
    "execution": {
     "iopub.execute_input": "2022-07-08T14:07:59.549365Z",
     "iopub.status.busy": "2022-07-08T14:07:59.548944Z",
     "iopub.status.idle": "2022-07-08T14:08:01.319578Z",
     "shell.execute_reply": "2022-07-08T14:08:01.317920Z"
    },
    "papermill": {
     "duration": 1.783751,
     "end_time": "2022-07-08T14:08:01.322660",
     "exception": false,
     "start_time": "2022-07-08T14:07:59.538909",
     "status": "completed"
    },
    "tags": []
   },
   "outputs": [
    {
     "name": "stdout",
     "output_type": "stream",
     "text": [
      "<class 'pandas.core.frame.DataFrame'>\n",
      "RangeIndex: 20640 entries, 0 to 20639\n",
      "Data columns (total 14 columns):\n",
      " #   Column              Non-Null Count  Dtype  \n",
      "---  ------              --------------  -----  \n",
      " 0   longitude           20640 non-null  float64\n",
      " 1   latitude            20640 non-null  float64\n",
      " 2   housing_median_age  20640 non-null  float64\n",
      " 3   total_rooms         20640 non-null  float64\n",
      " 4   total_bedrooms      20640 non-null  float64\n",
      " 5   population          20640 non-null  float64\n",
      " 6   households          20640 non-null  float64\n",
      " 7   median_income       20640 non-null  float64\n",
      " 8   median_house_value  20640 non-null  float64\n",
      " 9   <1H OCEAN           20640 non-null  float64\n",
      " 10  INLAND              20640 non-null  float64\n",
      " 11  ISLAND              20640 non-null  float64\n",
      " 12  NEAR BAY            20640 non-null  float64\n",
      " 13  NEAR OCEAN          20640 non-null  float64\n",
      "dtypes: float64(14)\n",
      "memory usage: 2.2 MB\n"
     ]
    }
   ],
   "source": [
    "from sklearn.impute import KNNImputer\n",
    "imputer = KNNImputer()\n",
    "imputation = imputer.fit_transform(housing2)\n",
    "housing3 = pd.DataFrame(imputation, columns = housing2.columns)\n",
    "housing3.info()"
   ]
  },
  {
   "cell_type": "markdown",
   "id": "241fcc4c",
   "metadata": {
    "papermill": {
     "duration": 0.008489,
     "end_time": "2022-07-08T14:08:01.339887",
     "exception": false,
     "start_time": "2022-07-08T14:08:01.331398",
     "status": "completed"
    },
    "tags": []
   },
   "source": [
    "### - Put target variable column as final column\n",
    "### - Shuffle data"
   ]
  },
  {
   "cell_type": "code",
   "execution_count": 8,
   "id": "a402d567",
   "metadata": {
    "execution": {
     "iopub.execute_input": "2022-07-08T14:08:01.359113Z",
     "iopub.status.busy": "2022-07-08T14:08:01.358733Z",
     "iopub.status.idle": "2022-07-08T14:08:01.400247Z",
     "shell.execute_reply": "2022-07-08T14:08:01.398969Z"
    },
    "papermill": {
     "duration": 0.054296,
     "end_time": "2022-07-08T14:08:01.402915",
     "exception": false,
     "start_time": "2022-07-08T14:08:01.348619",
     "status": "completed"
    },
    "tags": []
   },
   "outputs": [
    {
     "data": {
      "text/html": [
       "<div>\n",
       "<style scoped>\n",
       "    .dataframe tbody tr th:only-of-type {\n",
       "        vertical-align: middle;\n",
       "    }\n",
       "\n",
       "    .dataframe tbody tr th {\n",
       "        vertical-align: top;\n",
       "    }\n",
       "\n",
       "    .dataframe thead th {\n",
       "        text-align: right;\n",
       "    }\n",
       "</style>\n",
       "<table border=\"1\" class=\"dataframe\">\n",
       "  <thead>\n",
       "    <tr style=\"text-align: right;\">\n",
       "      <th></th>\n",
       "      <th>longitude</th>\n",
       "      <th>latitude</th>\n",
       "      <th>housing_median_age</th>\n",
       "      <th>total_rooms</th>\n",
       "      <th>total_bedrooms</th>\n",
       "      <th>population</th>\n",
       "      <th>households</th>\n",
       "      <th>median_income</th>\n",
       "      <th>&lt;1H OCEAN</th>\n",
       "      <th>INLAND</th>\n",
       "      <th>ISLAND</th>\n",
       "      <th>NEAR BAY</th>\n",
       "      <th>NEAR OCEAN</th>\n",
       "      <th>median_house_value</th>\n",
       "    </tr>\n",
       "  </thead>\n",
       "  <tbody>\n",
       "    <tr>\n",
       "      <th>4712</th>\n",
       "      <td>-118.36</td>\n",
       "      <td>34.06</td>\n",
       "      <td>39.0</td>\n",
       "      <td>2810.0</td>\n",
       "      <td>670.0</td>\n",
       "      <td>1109.0</td>\n",
       "      <td>624.0</td>\n",
       "      <td>3.2500</td>\n",
       "      <td>1.0</td>\n",
       "      <td>0.0</td>\n",
       "      <td>0.0</td>\n",
       "      <td>0.0</td>\n",
       "      <td>0.0</td>\n",
       "      <td>355000.0</td>\n",
       "    </tr>\n",
       "    <tr>\n",
       "      <th>2151</th>\n",
       "      <td>-119.78</td>\n",
       "      <td>36.78</td>\n",
       "      <td>37.0</td>\n",
       "      <td>2185.0</td>\n",
       "      <td>455.0</td>\n",
       "      <td>1143.0</td>\n",
       "      <td>438.0</td>\n",
       "      <td>1.9784</td>\n",
       "      <td>0.0</td>\n",
       "      <td>1.0</td>\n",
       "      <td>0.0</td>\n",
       "      <td>0.0</td>\n",
       "      <td>0.0</td>\n",
       "      <td>70700.0</td>\n",
       "    </tr>\n",
       "    <tr>\n",
       "      <th>15927</th>\n",
       "      <td>-122.42</td>\n",
       "      <td>37.73</td>\n",
       "      <td>46.0</td>\n",
       "      <td>1819.0</td>\n",
       "      <td>411.0</td>\n",
       "      <td>1534.0</td>\n",
       "      <td>406.0</td>\n",
       "      <td>4.0132</td>\n",
       "      <td>0.0</td>\n",
       "      <td>0.0</td>\n",
       "      <td>0.0</td>\n",
       "      <td>1.0</td>\n",
       "      <td>0.0</td>\n",
       "      <td>229400.0</td>\n",
       "    </tr>\n",
       "    <tr>\n",
       "      <th>82</th>\n",
       "      <td>-122.28</td>\n",
       "      <td>37.81</td>\n",
       "      <td>52.0</td>\n",
       "      <td>340.0</td>\n",
       "      <td>97.0</td>\n",
       "      <td>200.0</td>\n",
       "      <td>87.0</td>\n",
       "      <td>1.5208</td>\n",
       "      <td>0.0</td>\n",
       "      <td>0.0</td>\n",
       "      <td>0.0</td>\n",
       "      <td>1.0</td>\n",
       "      <td>0.0</td>\n",
       "      <td>112500.0</td>\n",
       "    </tr>\n",
       "    <tr>\n",
       "      <th>8161</th>\n",
       "      <td>-118.13</td>\n",
       "      <td>33.82</td>\n",
       "      <td>37.0</td>\n",
       "      <td>1530.0</td>\n",
       "      <td>290.0</td>\n",
       "      <td>711.0</td>\n",
       "      <td>283.0</td>\n",
       "      <td>5.1795</td>\n",
       "      <td>1.0</td>\n",
       "      <td>0.0</td>\n",
       "      <td>0.0</td>\n",
       "      <td>0.0</td>\n",
       "      <td>0.0</td>\n",
       "      <td>225400.0</td>\n",
       "    </tr>\n",
       "    <tr>\n",
       "      <th>...</th>\n",
       "      <td>...</td>\n",
       "      <td>...</td>\n",
       "      <td>...</td>\n",
       "      <td>...</td>\n",
       "      <td>...</td>\n",
       "      <td>...</td>\n",
       "      <td>...</td>\n",
       "      <td>...</td>\n",
       "      <td>...</td>\n",
       "      <td>...</td>\n",
       "      <td>...</td>\n",
       "      <td>...</td>\n",
       "      <td>...</td>\n",
       "      <td>...</td>\n",
       "    </tr>\n",
       "    <tr>\n",
       "      <th>10955</th>\n",
       "      <td>-117.88</td>\n",
       "      <td>33.76</td>\n",
       "      <td>17.0</td>\n",
       "      <td>1768.0</td>\n",
       "      <td>474.0</td>\n",
       "      <td>1079.0</td>\n",
       "      <td>436.0</td>\n",
       "      <td>1.7823</td>\n",
       "      <td>1.0</td>\n",
       "      <td>0.0</td>\n",
       "      <td>0.0</td>\n",
       "      <td>0.0</td>\n",
       "      <td>0.0</td>\n",
       "      <td>205300.0</td>\n",
       "    </tr>\n",
       "    <tr>\n",
       "      <th>17289</th>\n",
       "      <td>-119.63</td>\n",
       "      <td>34.42</td>\n",
       "      <td>42.0</td>\n",
       "      <td>1765.0</td>\n",
       "      <td>263.0</td>\n",
       "      <td>753.0</td>\n",
       "      <td>260.0</td>\n",
       "      <td>8.5608</td>\n",
       "      <td>1.0</td>\n",
       "      <td>0.0</td>\n",
       "      <td>0.0</td>\n",
       "      <td>0.0</td>\n",
       "      <td>0.0</td>\n",
       "      <td>500001.0</td>\n",
       "    </tr>\n",
       "    <tr>\n",
       "      <th>5192</th>\n",
       "      <td>-118.26</td>\n",
       "      <td>33.93</td>\n",
       "      <td>42.0</td>\n",
       "      <td>1433.0</td>\n",
       "      <td>295.0</td>\n",
       "      <td>775.0</td>\n",
       "      <td>293.0</td>\n",
       "      <td>1.1326</td>\n",
       "      <td>1.0</td>\n",
       "      <td>0.0</td>\n",
       "      <td>0.0</td>\n",
       "      <td>0.0</td>\n",
       "      <td>0.0</td>\n",
       "      <td>104800.0</td>\n",
       "    </tr>\n",
       "    <tr>\n",
       "      <th>12172</th>\n",
       "      <td>-117.16</td>\n",
       "      <td>33.73</td>\n",
       "      <td>10.0</td>\n",
       "      <td>2381.0</td>\n",
       "      <td>454.0</td>\n",
       "      <td>1323.0</td>\n",
       "      <td>477.0</td>\n",
       "      <td>2.6322</td>\n",
       "      <td>0.0</td>\n",
       "      <td>1.0</td>\n",
       "      <td>0.0</td>\n",
       "      <td>0.0</td>\n",
       "      <td>0.0</td>\n",
       "      <td>140700.0</td>\n",
       "    </tr>\n",
       "    <tr>\n",
       "      <th>235</th>\n",
       "      <td>-122.20</td>\n",
       "      <td>37.79</td>\n",
       "      <td>35.0</td>\n",
       "      <td>1802.0</td>\n",
       "      <td>459.0</td>\n",
       "      <td>1009.0</td>\n",
       "      <td>390.0</td>\n",
       "      <td>2.3036</td>\n",
       "      <td>0.0</td>\n",
       "      <td>0.0</td>\n",
       "      <td>0.0</td>\n",
       "      <td>1.0</td>\n",
       "      <td>0.0</td>\n",
       "      <td>126000.0</td>\n",
       "    </tr>\n",
       "  </tbody>\n",
       "</table>\n",
       "<p>20640 rows × 14 columns</p>\n",
       "</div>"
      ],
      "text/plain": [
       "       longitude  latitude  housing_median_age  total_rooms  total_bedrooms  \\\n",
       "4712     -118.36     34.06                39.0       2810.0           670.0   \n",
       "2151     -119.78     36.78                37.0       2185.0           455.0   \n",
       "15927    -122.42     37.73                46.0       1819.0           411.0   \n",
       "82       -122.28     37.81                52.0        340.0            97.0   \n",
       "8161     -118.13     33.82                37.0       1530.0           290.0   \n",
       "...          ...       ...                 ...          ...             ...   \n",
       "10955    -117.88     33.76                17.0       1768.0           474.0   \n",
       "17289    -119.63     34.42                42.0       1765.0           263.0   \n",
       "5192     -118.26     33.93                42.0       1433.0           295.0   \n",
       "12172    -117.16     33.73                10.0       2381.0           454.0   \n",
       "235      -122.20     37.79                35.0       1802.0           459.0   \n",
       "\n",
       "       population  households  median_income  <1H OCEAN  INLAND  ISLAND  \\\n",
       "4712       1109.0       624.0         3.2500        1.0     0.0     0.0   \n",
       "2151       1143.0       438.0         1.9784        0.0     1.0     0.0   \n",
       "15927      1534.0       406.0         4.0132        0.0     0.0     0.0   \n",
       "82          200.0        87.0         1.5208        0.0     0.0     0.0   \n",
       "8161        711.0       283.0         5.1795        1.0     0.0     0.0   \n",
       "...           ...         ...            ...        ...     ...     ...   \n",
       "10955      1079.0       436.0         1.7823        1.0     0.0     0.0   \n",
       "17289       753.0       260.0         8.5608        1.0     0.0     0.0   \n",
       "5192        775.0       293.0         1.1326        1.0     0.0     0.0   \n",
       "12172      1323.0       477.0         2.6322        0.0     1.0     0.0   \n",
       "235        1009.0       390.0         2.3036        0.0     0.0     0.0   \n",
       "\n",
       "       NEAR BAY  NEAR OCEAN  median_house_value  \n",
       "4712        0.0         0.0            355000.0  \n",
       "2151        0.0         0.0             70700.0  \n",
       "15927       1.0         0.0            229400.0  \n",
       "82          1.0         0.0            112500.0  \n",
       "8161        0.0         0.0            225400.0  \n",
       "...         ...         ...                 ...  \n",
       "10955       0.0         0.0            205300.0  \n",
       "17289       0.0         0.0            500001.0  \n",
       "5192        0.0         0.0            104800.0  \n",
       "12172       0.0         0.0            140700.0  \n",
       "235         1.0         0.0            126000.0  \n",
       "\n",
       "[20640 rows x 14 columns]"
      ]
     },
     "execution_count": 8,
     "metadata": {},
     "output_type": "execute_result"
    }
   ],
   "source": [
    "housing4 = housing3[['longitude',\n",
    "                     'latitude',\n",
    "                     'housing_median_age',\n",
    "                     'total_rooms',\n",
    "                     'total_bedrooms',\n",
    "                     'population',\n",
    "                     'households',\n",
    "                     'median_income',\n",
    "                     '<1H OCEAN',\n",
    "                     'INLAND',\n",
    "                     'ISLAND',\n",
    "                     'NEAR BAY',\n",
    "                     'NEAR OCEAN',\n",
    "                     'median_house_value']]\n",
    "\n",
    "housing4 = housing4.sample(n=len(housing4), random_state=1)\n",
    "housing4"
   ]
  },
  {
   "cell_type": "markdown",
   "id": "1379ec4e",
   "metadata": {
    "papermill": {
     "duration": 0.008972,
     "end_time": "2022-07-08T14:08:01.420991",
     "exception": false,
     "start_time": "2022-07-08T14:08:01.412019",
     "status": "completed"
    },
    "tags": []
   },
   "source": [
    "### Preprocessing"
   ]
  },
  {
   "cell_type": "code",
   "execution_count": 9,
   "id": "a3c30c41",
   "metadata": {
    "execution": {
     "iopub.execute_input": "2022-07-08T14:08:01.441225Z",
     "iopub.status.busy": "2022-07-08T14:08:01.440449Z",
     "iopub.status.idle": "2022-07-08T14:08:01.447998Z",
     "shell.execute_reply": "2022-07-08T14:08:01.447115Z"
    },
    "papermill": {
     "duration": 0.019998,
     "end_time": "2022-07-08T14:08:01.450158",
     "exception": false,
     "start_time": "2022-07-08T14:08:01.430160",
     "status": "completed"
    },
    "tags": []
   },
   "outputs": [
    {
     "data": {
      "text/plain": [
       "Index(['longitude', 'latitude', 'housing_median_age', 'total_rooms',\n",
       "       'total_bedrooms', 'population', 'households', 'median_income',\n",
       "       '<1H OCEAN', 'INLAND', 'ISLAND', 'NEAR BAY', 'NEAR OCEAN'],\n",
       "      dtype='object')"
      ]
     },
     "execution_count": 9,
     "metadata": {},
     "output_type": "execute_result"
    }
   ],
   "source": [
    "# list of feature names\n",
    "X_features = housing4.columns[:-1]\n",
    "X_features"
   ]
  },
  {
   "cell_type": "code",
   "execution_count": 10,
   "id": "90904416",
   "metadata": {
    "execution": {
     "iopub.execute_input": "2022-07-08T14:08:01.471021Z",
     "iopub.status.busy": "2022-07-08T14:08:01.470230Z",
     "iopub.status.idle": "2022-07-08T14:08:01.478369Z",
     "shell.execute_reply": "2022-07-08T14:08:01.477342Z"
    },
    "papermill": {
     "duration": 0.021681,
     "end_time": "2022-07-08T14:08:01.480670",
     "exception": false,
     "start_time": "2022-07-08T14:08:01.458989",
     "status": "completed"
    },
    "tags": []
   },
   "outputs": [
    {
     "data": {
      "text/plain": [
       "((20640, 13), (20640,))"
      ]
     },
     "execution_count": 10,
     "metadata": {},
     "output_type": "execute_result"
    }
   ],
   "source": [
    "X_train, y_train = housing4.to_numpy()[:, :-1], housing4.to_numpy()[:, -1]\n",
    "\n",
    "X_train.shape, y_train.shape"
   ]
  },
  {
   "cell_type": "code",
   "execution_count": 11,
   "id": "6f1ac84b",
   "metadata": {
    "execution": {
     "iopub.execute_input": "2022-07-08T14:08:01.502386Z",
     "iopub.status.busy": "2022-07-08T14:08:01.501561Z",
     "iopub.status.idle": "2022-07-08T14:08:01.511581Z",
     "shell.execute_reply": "2022-07-08T14:08:01.510460Z"
    },
    "papermill": {
     "duration": 0.023783,
     "end_time": "2022-07-08T14:08:01.514094",
     "exception": false,
     "start_time": "2022-07-08T14:08:01.490311",
     "status": "completed"
    },
    "tags": []
   },
   "outputs": [],
   "source": [
    "from sklearn.preprocessing import StandardScaler\n",
    "import numpy as np\n",
    "\n",
    "scaler = StandardScaler()\n",
    "\n",
    "def preprocessor(X):\n",
    "  A = np.copy(X)\n",
    "  A[:, :8] = scaler.fit_transform(A[:, :8])\n",
    "  return A\n",
    "\n",
    "X_train = preprocessor(X_train)"
   ]
  },
  {
   "cell_type": "code",
   "execution_count": 12,
   "id": "e2dadd0c",
   "metadata": {
    "execution": {
     "iopub.execute_input": "2022-07-08T14:08:01.534475Z",
     "iopub.status.busy": "2022-07-08T14:08:01.533736Z",
     "iopub.status.idle": "2022-07-08T14:08:01.554432Z",
     "shell.execute_reply": "2022-07-08T14:08:01.553319Z"
    },
    "papermill": {
     "duration": 0.03352,
     "end_time": "2022-07-08T14:08:01.556717",
     "exception": false,
     "start_time": "2022-07-08T14:08:01.523197",
     "status": "completed"
    },
    "tags": []
   },
   "outputs": [
    {
     "data": {
      "text/html": [
       "<div>\n",
       "<style scoped>\n",
       "    .dataframe tbody tr th:only-of-type {\n",
       "        vertical-align: middle;\n",
       "    }\n",
       "\n",
       "    .dataframe tbody tr th {\n",
       "        vertical-align: top;\n",
       "    }\n",
       "\n",
       "    .dataframe thead th {\n",
       "        text-align: right;\n",
       "    }\n",
       "</style>\n",
       "<table border=\"1\" class=\"dataframe\">\n",
       "  <thead>\n",
       "    <tr style=\"text-align: right;\">\n",
       "      <th></th>\n",
       "      <th>0</th>\n",
       "      <th>1</th>\n",
       "      <th>2</th>\n",
       "      <th>3</th>\n",
       "      <th>4</th>\n",
       "      <th>5</th>\n",
       "      <th>6</th>\n",
       "      <th>7</th>\n",
       "      <th>8</th>\n",
       "      <th>9</th>\n",
       "      <th>10</th>\n",
       "      <th>11</th>\n",
       "      <th>12</th>\n",
       "    </tr>\n",
       "  </thead>\n",
       "  <tbody>\n",
       "    <tr>\n",
       "      <th>0</th>\n",
       "      <td>0.603801</td>\n",
       "      <td>-0.735924</td>\n",
       "      <td>0.823227</td>\n",
       "      <td>0.079868</td>\n",
       "      <td>0.315000</td>\n",
       "      <td>-0.279466</td>\n",
       "      <td>0.325539</td>\n",
       "      <td>-0.326708</td>\n",
       "      <td>1.0</td>\n",
       "      <td>0.0</td>\n",
       "      <td>0.0</td>\n",
       "      <td>0.0</td>\n",
       "      <td>0.0</td>\n",
       "    </tr>\n",
       "    <tr>\n",
       "      <th>1</th>\n",
       "      <td>-0.104965</td>\n",
       "      <td>0.537543</td>\n",
       "      <td>0.664310</td>\n",
       "      <td>-0.206624</td>\n",
       "      <td>-0.196416</td>\n",
       "      <td>-0.249442</td>\n",
       "      <td>-0.160964</td>\n",
       "      <td>-0.996050</td>\n",
       "      <td>0.0</td>\n",
       "      <td>1.0</td>\n",
       "      <td>0.0</td>\n",
       "      <td>0.0</td>\n",
       "      <td>0.0</td>\n",
       "    </tr>\n",
       "    <tr>\n",
       "      <th>2</th>\n",
       "      <td>-1.422670</td>\n",
       "      <td>0.982320</td>\n",
       "      <td>1.379433</td>\n",
       "      <td>-0.374394</td>\n",
       "      <td>-0.301078</td>\n",
       "      <td>0.095832</td>\n",
       "      <td>-0.244663</td>\n",
       "      <td>0.075024</td>\n",
       "      <td>0.0</td>\n",
       "      <td>0.0</td>\n",
       "      <td>0.0</td>\n",
       "      <td>1.0</td>\n",
       "      <td>0.0</td>\n",
       "    </tr>\n",
       "    <tr>\n",
       "      <th>3</th>\n",
       "      <td>-1.352792</td>\n",
       "      <td>1.019775</td>\n",
       "      <td>1.856182</td>\n",
       "      <td>-1.052348</td>\n",
       "      <td>-1.047983</td>\n",
       "      <td>-1.082161</td>\n",
       "      <td>-1.079042</td>\n",
       "      <td>-1.236920</td>\n",
       "      <td>0.0</td>\n",
       "      <td>0.0</td>\n",
       "      <td>0.0</td>\n",
       "      <td>1.0</td>\n",
       "      <td>0.0</td>\n",
       "    </tr>\n",
       "    <tr>\n",
       "      <th>4</th>\n",
       "      <td>0.718601</td>\n",
       "      <td>-0.848289</td>\n",
       "      <td>0.664310</td>\n",
       "      <td>-0.506868</td>\n",
       "      <td>-0.588898</td>\n",
       "      <td>-0.630921</td>\n",
       "      <td>-0.566383</td>\n",
       "      <td>0.688939</td>\n",
       "      <td>1.0</td>\n",
       "      <td>0.0</td>\n",
       "      <td>0.0</td>\n",
       "      <td>0.0</td>\n",
       "      <td>0.0</td>\n",
       "    </tr>\n",
       "  </tbody>\n",
       "</table>\n",
       "</div>"
      ],
      "text/plain": [
       "         0         1         2         3         4         5         6   \\\n",
       "0  0.603801 -0.735924  0.823227  0.079868  0.315000 -0.279466  0.325539   \n",
       "1 -0.104965  0.537543  0.664310 -0.206624 -0.196416 -0.249442 -0.160964   \n",
       "2 -1.422670  0.982320  1.379433 -0.374394 -0.301078  0.095832 -0.244663   \n",
       "3 -1.352792  1.019775  1.856182 -1.052348 -1.047983 -1.082161 -1.079042   \n",
       "4  0.718601 -0.848289  0.664310 -0.506868 -0.588898 -0.630921 -0.566383   \n",
       "\n",
       "         7    8    9    10   11   12  \n",
       "0 -0.326708  1.0  0.0  0.0  0.0  0.0  \n",
       "1 -0.996050  0.0  1.0  0.0  0.0  0.0  \n",
       "2  0.075024  0.0  0.0  0.0  1.0  0.0  \n",
       "3 -1.236920  0.0  0.0  0.0  1.0  0.0  \n",
       "4  0.688939  1.0  0.0  0.0  0.0  0.0  "
      ]
     },
     "execution_count": 12,
     "metadata": {},
     "output_type": "execute_result"
    }
   ],
   "source": [
    "pd.DataFrame(X_train).head()"
   ]
  },
  {
   "cell_type": "markdown",
   "id": "742c5b6f",
   "metadata": {
    "papermill": {
     "duration": 0.009199,
     "end_time": "2022-07-08T14:08:01.575149",
     "exception": false,
     "start_time": "2022-07-08T14:08:01.565950",
     "status": "completed"
    },
    "tags": []
   },
   "source": [
    "### Create and fit the regression model (gradient descent)"
   ]
  },
  {
   "cell_type": "code",
   "execution_count": 13,
   "id": "648f9dd5",
   "metadata": {
    "execution": {
     "iopub.execute_input": "2022-07-08T14:08:01.596330Z",
     "iopub.status.busy": "2022-07-08T14:08:01.595897Z",
     "iopub.status.idle": "2022-07-08T14:08:01.632645Z",
     "shell.execute_reply": "2022-07-08T14:08:01.630941Z"
    },
    "papermill": {
     "duration": 0.05087,
     "end_time": "2022-07-08T14:08:01.635331",
     "exception": false,
     "start_time": "2022-07-08T14:08:01.584461",
     "status": "completed"
    },
    "tags": []
   },
   "outputs": [
    {
     "name": "stdout",
     "output_type": "stream",
     "text": [
      "number of iterations completed: 11, number of weight updates: 227041.0\n"
     ]
    }
   ],
   "source": [
    "from sklearn.linear_model import SGDRegressor\n",
    "sgdr = SGDRegressor(max_iter=1000)\n",
    "sgdr.fit(X_train, y_train)\n",
    "print(f\"number of iterations completed: {sgdr.n_iter_}, number of weight updates: {sgdr.t_}\")"
   ]
  },
  {
   "cell_type": "markdown",
   "id": "973342c2",
   "metadata": {
    "papermill": {
     "duration": 0.008974,
     "end_time": "2022-07-08T14:08:01.653734",
     "exception": false,
     "start_time": "2022-07-08T14:08:01.644760",
     "status": "completed"
    },
    "tags": []
   },
   "source": [
    "### View Parameters"
   ]
  },
  {
   "cell_type": "code",
   "execution_count": 14,
   "id": "ba31a41f",
   "metadata": {
    "execution": {
     "iopub.execute_input": "2022-07-08T14:08:01.674945Z",
     "iopub.status.busy": "2022-07-08T14:08:01.673920Z",
     "iopub.status.idle": "2022-07-08T14:08:01.682378Z",
     "shell.execute_reply": "2022-07-08T14:08:01.680767Z"
    },
    "papermill": {
     "duration": 0.022517,
     "end_time": "2022-07-08T14:08:01.685596",
     "exception": false,
     "start_time": "2022-07-08T14:08:01.663079",
     "status": "completed"
    },
    "tags": []
   },
   "outputs": [
    {
     "name": "stdout",
     "output_type": "stream",
     "text": [
      "model parameters: w: [-51973.99 -53013.58  14624.02 -12740.18  37875.02 -44469.04  23301.77\n",
      "  73748.15  50310.92  10916.22   6642.72  45957.09  54628.41], b:[170762.68]\n"
     ]
    }
   ],
   "source": [
    "b_train = sgdr.intercept_\n",
    "w_train = sgdr.coef_\n",
    "print(f\"model parameters: w: {w_train}, b:{b_train}\")"
   ]
  },
  {
   "cell_type": "markdown",
   "id": "418b8d28",
   "metadata": {
    "papermill": {
     "duration": 0.009219,
     "end_time": "2022-07-08T14:08:01.704767",
     "exception": false,
     "start_time": "2022-07-08T14:08:01.695548",
     "status": "completed"
    },
    "tags": []
   },
   "source": [
    "### Predictions"
   ]
  },
  {
   "cell_type": "code",
   "execution_count": 15,
   "id": "b10276c5",
   "metadata": {
    "execution": {
     "iopub.execute_input": "2022-07-08T14:08:01.726544Z",
     "iopub.status.busy": "2022-07-08T14:08:01.726133Z",
     "iopub.status.idle": "2022-07-08T14:08:01.740837Z",
     "shell.execute_reply": "2022-07-08T14:08:01.739948Z"
    },
    "papermill": {
     "duration": 0.02924,
     "end_time": "2022-07-08T14:08:01.743935",
     "exception": false,
     "start_time": "2022-07-08T14:08:01.714695",
     "status": "completed"
    },
    "tags": []
   },
   "outputs": [
    {
     "name": "stdout",
     "output_type": "stream",
     "text": [
      "prediction using np.dot() and sgdr.predict match: True\n",
      "Prediction on training set:\n",
      "[247576.76  97430.19 247694.91 165585.89 288230.53]\n",
      "Target values \n",
      "[355000.  70700. 229400. 112500. 225400.]\n"
     ]
    }
   ],
   "source": [
    "# make a prediction using sgdr.predict()\n",
    "y_pred_sgd = sgdr.predict(X_train)\n",
    "# make a prediction using w,b. \n",
    "y_pred = np.dot(X_train, w_train) + b_train\n",
    "print(f\"prediction using np.dot() and sgdr.predict match: {(y_pred == y_pred_sgd).all()}\")\n",
    "\n",
    "print(f\"Prediction on training set:\\n{y_pred[:5]}\" )\n",
    "print(f\"Target values \\n{y_train[:5]}\")"
   ]
  },
  {
   "cell_type": "code",
   "execution_count": 16,
   "id": "4e814fb1",
   "metadata": {
    "execution": {
     "iopub.execute_input": "2022-07-08T14:08:01.780280Z",
     "iopub.status.busy": "2022-07-08T14:08:01.779664Z",
     "iopub.status.idle": "2022-07-08T14:08:01.792082Z",
     "shell.execute_reply": "2022-07-08T14:08:01.790819Z"
    },
    "papermill": {
     "duration": 0.035062,
     "end_time": "2022-07-08T14:08:01.795454",
     "exception": false,
     "start_time": "2022-07-08T14:08:01.760392",
     "status": "completed"
    },
    "tags": []
   },
   "outputs": [
    {
     "data": {
      "text/plain": [
       "68746.07237541954"
      ]
     },
     "execution_count": 16,
     "metadata": {},
     "output_type": "execute_result"
    }
   ],
   "source": [
    "from sklearn.metrics import mean_squared_error as mse\n",
    "mse(sgdr.predict(X_train), y_train, squared=False)"
   ]
  },
  {
   "cell_type": "markdown",
   "id": "f4fc025e",
   "metadata": {
    "papermill": {
     "duration": 0.017355,
     "end_time": "2022-07-08T14:08:01.830488",
     "exception": false,
     "start_time": "2022-07-08T14:08:01.813133",
     "status": "completed"
    },
    "tags": []
   },
   "source": [
    "### Plotting results"
   ]
  },
  {
   "cell_type": "code",
   "execution_count": 17,
   "id": "570927bf",
   "metadata": {
    "execution": {
     "iopub.execute_input": "2022-07-08T14:08:01.868687Z",
     "iopub.status.busy": "2022-07-08T14:08:01.867824Z",
     "iopub.status.idle": "2022-07-08T14:08:05.198705Z",
     "shell.execute_reply": "2022-07-08T14:08:05.197440Z"
    },
    "papermill": {
     "duration": 3.352946,
     "end_time": "2022-07-08T14:08:05.201391",
     "exception": false,
     "start_time": "2022-07-08T14:08:01.848445",
     "status": "completed"
    },
    "tags": []
   },
   "outputs": [
    {
     "data": {
      "image/png": "[encoded data removed]",
      "text/plain": [
       "<Figure size 864x216 with 13 Axes>"
      ]
     },
     "metadata": {
      "needs_background": "light"
     },
     "output_type": "display_data"
    }
   ],
   "source": [
    "import matplotlib.pyplot as plt\n",
    "\n",
    "# plot predictions and targets vs original features    \n",
    "fig,ax=plt.subplots(1,len(X_features),figsize=(12,3),sharey=True)\n",
    "for i in range(len(ax)):\n",
    "    ax[i].scatter(X_train[:,i],y_train, label = 'target', s = 0.1)\n",
    "    ax[i].set_xlabel(X_features[i])\n",
    "    ax[i].scatter(X_train[:,i],y_pred, label = 'predict', s = 0.1)\n",
    "ax[0].set_ylabel(\"Price\"); ax[0].legend();\n",
    "fig.suptitle(\"target versus prediction using z-score normalized model\")\n",
    "plt.show()"
   ]
  }
 ],
 "metadata": {
  "kernelspec": {
   "display_name": "Python 3",
   "language": "python",
   "name": "python3"
  },
  "language_info": {
   "codemirror_mode": {
    "name": "ipython",
    "version": 3
   },
   "file_extension": ".py",
   "mimetype": "text/x-python",
   "name": "python",
   "nbconvert_exporter": "python",
   "pygments_lexer": "ipython3",
   "version": "3.7.12"
  },
  "papermill": {
   "default_parameters": {},
   "duration": 17.324731,
   "end_time": "2022-07-08T14:08:05.933939",
   "environment_variables": {},
   "exception": null,
   "input_path": "__notebook__.ipynb",
   "output_path": "__notebook__.ipynb",
   "parameters": {},
   "start_time": "2022-07-08T14:07:48.609208",
   "version": "2.3.4"
  }
 },
 "nbformat": 4,
 "nbformat_minor": 5
}
