{
 "cells": [
  {
   "cell_type": "code",
   "execution_count": 1,
   "id": "6b6d5ce4",
   "metadata": {
    "_cell_guid": "b1076dfc-b9ad-4769-8c92-a6c4dae69d19",
    "_uuid": "8f2839f25d086af736a60e9eeb907d3b93b6e0e5",
    "execution": {
     "iopub.execute_input": "2022-07-08T15:20:49.820269Z",
     "iopub.status.busy": "2022-07-08T15:20:49.819771Z",
     "iopub.status.idle": "2022-07-08T15:20:49.837822Z",
     "shell.execute_reply": "2022-07-08T15:20:49.837031Z"
    },
    "papermill": {
     "duration": 0.031127,
     "end_time": "2022-07-08T15:20:49.840678",
     "exception": false,
     "start_time": "2022-07-08T15:20:49.809551",
     "status": "completed"
    },
    "tags": []
   },
   "outputs": [
    {
     "name": "stdout",
     "output_type": "stream",
     "text": [
      "/kaggle/input/california-housing-prices/housing.csv\n"
     ]
    }
   ],
   "source": [
    "# This Python 3 environment comes with many helpful analytics libraries installed\n",
    "# It is defined by the kaggle/python Docker image: https://github.com/kaggle/docker-python\n",
    "# For example, here's several helpful packages to load\n",
    "\n",
    "import numpy as np # linear algebra\n",
    "import pandas as pd # data processing, CSV file I/O (e.g. pd.read_csv)\n",
    "np.set_printoptions(precision=2)\n",
    "\n",
    "# Input data files are available in the read-only \"../input/\" directory\n",
    "# For example, running this (by clicking run or pressing Shift+Enter) will list all files under the input directory\n",
    "\n",
    "import os\n",
    "for dirname, _, filenames in os.walk('/kaggle/input'):\n",
    "    for filename in filenames:\n",
    "        print(os.path.join(dirname, filename))\n",
    "\n",
    "# You can write up to 20GB to the current directory (/kaggle/working/) that gets preserved as output when you create a version using \"Save & Run All\" \n",
    "# You can also write temporary files to /kaggle/temp/, but they won't be saved outside of the current session"
   ]
  },
  {
   "cell_type": "markdown",
   "id": "106a82cf",
   "metadata": {
    "papermill": {
     "duration": 0.006726,
     "end_time": "2022-07-08T15:20:49.854858",
     "exception": false,
     "start_time": "2022-07-08T15:20:49.848132",
     "status": "completed"
    },
    "tags": []
   },
   "source": [
    "### Import data"
   ]
  },
  {
   "cell_type": "code",
   "execution_count": 2,
   "id": "e4c9d4a7",
   "metadata": {
    "execution": {
     "iopub.execute_input": "2022-07-08T15:20:49.870884Z",
     "iopub.status.busy": "2022-07-08T15:20:49.870138Z",
     "iopub.status.idle": "2022-07-08T15:20:49.954180Z",
     "shell.execute_reply": "2022-07-08T15:20:49.953012Z"
    },
    "papermill": {
     "duration": 0.094797,
     "end_time": "2022-07-08T15:20:49.956648",
     "exception": false,
     "start_time": "2022-07-08T15:20:49.861851",
     "status": "completed"
    },
    "tags": []
   },
   "outputs": [
    {
     "data": {
      "text/html": [
       "<div>\n",
       "<style scoped>\n",
       "    .dataframe tbody tr th:only-of-type {\n",
       "        vertical-align: middle;\n",
       "    }\n",
       "\n",
       "    .dataframe tbody tr th {\n",
       "        vertical-align: top;\n",
       "    }\n",
       "\n",
       "    .dataframe thead th {\n",
       "        text-align: right;\n",
       "    }\n",
       "</style>\n",
       "<table border=\"1\" class=\"dataframe\">\n",
       "  <thead>\n",
       "    <tr style=\"text-align: right;\">\n",
       "      <th></th>\n",
       "      <th>longitude</th>\n",
       "      <th>latitude</th>\n",
       "      <th>housing_median_age</th>\n",
       "      <th>total_rooms</th>\n",
       "      <th>total_bedrooms</th>\n",
       "      <th>population</th>\n",
       "      <th>households</th>\n",
       "      <th>median_income</th>\n",
       "      <th>median_house_value</th>\n",
       "      <th>ocean_proximity</th>\n",
       "    </tr>\n",
       "  </thead>\n",
       "  <tbody>\n",
       "    <tr>\n",
       "      <th>0</th>\n",
       "      <td>-122.23</td>\n",
       "      <td>37.88</td>\n",
       "      <td>41.0</td>\n",
       "      <td>880.0</td>\n",
       "      <td>129.0</td>\n",
       "      <td>322.0</td>\n",
       "      <td>126.0</td>\n",
       "      <td>8.3252</td>\n",
       "      <td>452600.0</td>\n",
       "      <td>NEAR BAY</td>\n",
       "    </tr>\n",
       "    <tr>\n",
       "      <th>1</th>\n",
       "      <td>-122.22</td>\n",
       "      <td>37.86</td>\n",
       "      <td>21.0</td>\n",
       "      <td>7099.0</td>\n",
       "      <td>1106.0</td>\n",
       "      <td>2401.0</td>\n",
       "      <td>1138.0</td>\n",
       "      <td>8.3014</td>\n",
       "      <td>358500.0</td>\n",
       "      <td>NEAR BAY</td>\n",
       "    </tr>\n",
       "    <tr>\n",
       "      <th>2</th>\n",
       "      <td>-122.24</td>\n",
       "      <td>37.85</td>\n",
       "      <td>52.0</td>\n",
       "      <td>1467.0</td>\n",
       "      <td>190.0</td>\n",
       "      <td>496.0</td>\n",
       "      <td>177.0</td>\n",
       "      <td>7.2574</td>\n",
       "      <td>352100.0</td>\n",
       "      <td>NEAR BAY</td>\n",
       "    </tr>\n",
       "    <tr>\n",
       "      <th>3</th>\n",
       "      <td>-122.25</td>\n",
       "      <td>37.85</td>\n",
       "      <td>52.0</td>\n",
       "      <td>1274.0</td>\n",
       "      <td>235.0</td>\n",
       "      <td>558.0</td>\n",
       "      <td>219.0</td>\n",
       "      <td>5.6431</td>\n",
       "      <td>341300.0</td>\n",
       "      <td>NEAR BAY</td>\n",
       "    </tr>\n",
       "    <tr>\n",
       "      <th>4</th>\n",
       "      <td>-122.25</td>\n",
       "      <td>37.85</td>\n",
       "      <td>52.0</td>\n",
       "      <td>1627.0</td>\n",
       "      <td>280.0</td>\n",
       "      <td>565.0</td>\n",
       "      <td>259.0</td>\n",
       "      <td>3.8462</td>\n",
       "      <td>342200.0</td>\n",
       "      <td>NEAR BAY</td>\n",
       "    </tr>\n",
       "  </tbody>\n",
       "</table>\n",
       "</div>"
      ],
      "text/plain": [
       "   longitude  latitude  housing_median_age  total_rooms  total_bedrooms  \\\n",
       "0    -122.23     37.88                41.0        880.0           129.0   \n",
       "1    -122.22     37.86                21.0       7099.0          1106.0   \n",
       "2    -122.24     37.85                52.0       1467.0           190.0   \n",
       "3    -122.25     37.85                52.0       1274.0           235.0   \n",
       "4    -122.25     37.85                52.0       1627.0           280.0   \n",
       "\n",
       "   population  households  median_income  median_house_value ocean_proximity  \n",
       "0       322.0       126.0         8.3252            452600.0        NEAR BAY  \n",
       "1      2401.0      1138.0         8.3014            358500.0        NEAR BAY  \n",
       "2       496.0       177.0         7.2574            352100.0        NEAR BAY  \n",
       "3       558.0       219.0         5.6431            341300.0        NEAR BAY  \n",
       "4       565.0       259.0         3.8462            342200.0        NEAR BAY  "
      ]
     },
     "execution_count": 2,
     "metadata": {},
     "output_type": "execute_result"
    }
   ],
   "source": [
    "housing1 = pd.read_csv('/kaggle/input/california-housing-prices/housing.csv')\n",
    "housing1.head()"
   ]
  },
  {
   "cell_type": "code",
   "execution_count": 3,
   "id": "39e88255",
   "metadata": {
    "execution": {
     "iopub.execute_input": "2022-07-08T15:20:49.972969Z",
     "iopub.status.busy": "2022-07-08T15:20:49.972528Z",
     "iopub.status.idle": "2022-07-08T15:20:49.999991Z",
     "shell.execute_reply": "2022-07-08T15:20:49.998803Z"
    },
    "papermill": {
     "duration": 0.038405,
     "end_time": "2022-07-08T15:20:50.002457",
     "exception": false,
     "start_time": "2022-07-08T15:20:49.964052",
     "status": "completed"
    },
    "tags": []
   },
   "outputs": [
    {
     "name": "stdout",
     "output_type": "stream",
     "text": [
      "<class 'pandas.core.frame.DataFrame'>\n",
      "RangeIndex: 20640 entries, 0 to 20639\n",
      "Data columns (total 10 columns):\n",
      " #   Column              Non-Null Count  Dtype  \n",
      "---  ------              --------------  -----  \n",
      " 0   longitude           20640 non-null  float64\n",
      " 1   latitude            20640 non-null  float64\n",
      " 2   housing_median_age  20640 non-null  float64\n",
      " 3   total_rooms         20640 non-null  float64\n",
      " 4   total_bedrooms      20433 non-null  float64\n",
      " 5   population          20640 non-null  float64\n",
      " 6   households          20640 non-null  float64\n",
      " 7   median_income       20640 non-null  float64\n",
      " 8   median_house_value  20640 non-null  float64\n",
      " 9   ocean_proximity     20640 non-null  object \n",
      "dtypes: float64(9), object(1)\n",
      "memory usage: 1.6+ MB\n"
     ]
    }
   ],
   "source": [
    "housing1.info()"
   ]
  },
  {
   "cell_type": "markdown",
   "id": "2547dbdc",
   "metadata": {
    "papermill": {
     "duration": 0.007038,
     "end_time": "2022-07-08T15:20:50.016889",
     "exception": false,
     "start_time": "2022-07-08T15:20:50.009851",
     "status": "completed"
    },
    "tags": []
   },
   "source": [
    "### Encode categorical variables (used dummy encoding)"
   ]
  },
  {
   "cell_type": "code",
   "execution_count": 4,
   "id": "261a4f20",
   "metadata": {
    "execution": {
     "iopub.execute_input": "2022-07-08T15:20:50.033655Z",
     "iopub.status.busy": "2022-07-08T15:20:50.032751Z",
     "iopub.status.idle": "2022-07-08T15:20:50.046716Z",
     "shell.execute_reply": "2022-07-08T15:20:50.045736Z"
    },
    "papermill": {
     "duration": 0.024769,
     "end_time": "2022-07-08T15:20:50.048988",
     "exception": false,
     "start_time": "2022-07-08T15:20:50.024219",
     "status": "completed"
    },
    "tags": []
   },
   "outputs": [
    {
     "data": {
      "text/html": [
       "<div>\n",
       "<style scoped>\n",
       "    .dataframe tbody tr th:only-of-type {\n",
       "        vertical-align: middle;\n",
       "    }\n",
       "\n",
       "    .dataframe tbody tr th {\n",
       "        vertical-align: top;\n",
       "    }\n",
       "\n",
       "    .dataframe thead th {\n",
       "        text-align: right;\n",
       "    }\n",
       "</style>\n",
       "<table border=\"1\" class=\"dataframe\">\n",
       "  <thead>\n",
       "    <tr style=\"text-align: right;\">\n",
       "      <th></th>\n",
       "      <th>&lt;1H OCEAN</th>\n",
       "      <th>INLAND</th>\n",
       "      <th>ISLAND</th>\n",
       "      <th>NEAR BAY</th>\n",
       "      <th>NEAR OCEAN</th>\n",
       "    </tr>\n",
       "  </thead>\n",
       "  <tbody>\n",
       "    <tr>\n",
       "      <th>0</th>\n",
       "      <td>0</td>\n",
       "      <td>0</td>\n",
       "      <td>0</td>\n",
       "      <td>1</td>\n",
       "      <td>0</td>\n",
       "    </tr>\n",
       "    <tr>\n",
       "      <th>1</th>\n",
       "      <td>0</td>\n",
       "      <td>0</td>\n",
       "      <td>0</td>\n",
       "      <td>1</td>\n",
       "      <td>0</td>\n",
       "    </tr>\n",
       "    <tr>\n",
       "      <th>2</th>\n",
       "      <td>0</td>\n",
       "      <td>0</td>\n",
       "      <td>0</td>\n",
       "      <td>1</td>\n",
       "      <td>0</td>\n",
       "    </tr>\n",
       "    <tr>\n",
       "      <th>3</th>\n",
       "      <td>0</td>\n",
       "      <td>0</td>\n",
       "      <td>0</td>\n",
       "      <td>1</td>\n",
       "      <td>0</td>\n",
       "    </tr>\n",
       "    <tr>\n",
       "      <th>4</th>\n",
       "      <td>0</td>\n",
       "      <td>0</td>\n",
       "      <td>0</td>\n",
       "      <td>1</td>\n",
       "      <td>0</td>\n",
       "    </tr>\n",
       "  </tbody>\n",
       "</table>\n",
       "</div>"
      ],
      "text/plain": [
       "   <1H OCEAN  INLAND  ISLAND  NEAR BAY  NEAR OCEAN\n",
       "0          0       0       0         1           0\n",
       "1          0       0       0         1           0\n",
       "2          0       0       0         1           0\n",
       "3          0       0       0         1           0\n",
       "4          0       0       0         1           0"
      ]
     },
     "execution_count": 4,
     "metadata": {},
     "output_type": "execute_result"
    }
   ],
   "source": [
    "pd.get_dummies(housing1['ocean_proximity']).head()"
   ]
  },
  {
   "cell_type": "code",
   "execution_count": 5,
   "id": "9852175d",
   "metadata": {
    "execution": {
     "iopub.execute_input": "2022-07-08T15:20:50.066233Z",
     "iopub.status.busy": "2022-07-08T15:20:50.065522Z",
     "iopub.status.idle": "2022-07-08T15:20:50.086866Z",
     "shell.execute_reply": "2022-07-08T15:20:50.086040Z"
    },
    "papermill": {
     "duration": 0.032502,
     "end_time": "2022-07-08T15:20:50.089091",
     "exception": false,
     "start_time": "2022-07-08T15:20:50.056589",
     "status": "completed"
    },
    "tags": []
   },
   "outputs": [
    {
     "data": {
      "text/html": [
       "<div>\n",
       "<style scoped>\n",
       "    .dataframe tbody tr th:only-of-type {\n",
       "        vertical-align: middle;\n",
       "    }\n",
       "\n",
       "    .dataframe tbody tr th {\n",
       "        vertical-align: top;\n",
       "    }\n",
       "\n",
       "    .dataframe thead th {\n",
       "        text-align: right;\n",
       "    }\n",
       "</style>\n",
       "<table border=\"1\" class=\"dataframe\">\n",
       "  <thead>\n",
       "    <tr style=\"text-align: right;\">\n",
       "      <th></th>\n",
       "      <th>longitude</th>\n",
       "      <th>latitude</th>\n",
       "      <th>housing_median_age</th>\n",
       "      <th>total_rooms</th>\n",
       "      <th>total_bedrooms</th>\n",
       "      <th>population</th>\n",
       "      <th>households</th>\n",
       "      <th>median_income</th>\n",
       "      <th>median_house_value</th>\n",
       "    </tr>\n",
       "  </thead>\n",
       "  <tbody>\n",
       "    <tr>\n",
       "      <th>0</th>\n",
       "      <td>-122.23</td>\n",
       "      <td>37.88</td>\n",
       "      <td>41.0</td>\n",
       "      <td>880.0</td>\n",
       "      <td>129.0</td>\n",
       "      <td>322.0</td>\n",
       "      <td>126.0</td>\n",
       "      <td>8.3252</td>\n",
       "      <td>452600.0</td>\n",
       "    </tr>\n",
       "    <tr>\n",
       "      <th>1</th>\n",
       "      <td>-122.22</td>\n",
       "      <td>37.86</td>\n",
       "      <td>21.0</td>\n",
       "      <td>7099.0</td>\n",
       "      <td>1106.0</td>\n",
       "      <td>2401.0</td>\n",
       "      <td>1138.0</td>\n",
       "      <td>8.3014</td>\n",
       "      <td>358500.0</td>\n",
       "    </tr>\n",
       "    <tr>\n",
       "      <th>2</th>\n",
       "      <td>-122.24</td>\n",
       "      <td>37.85</td>\n",
       "      <td>52.0</td>\n",
       "      <td>1467.0</td>\n",
       "      <td>190.0</td>\n",
       "      <td>496.0</td>\n",
       "      <td>177.0</td>\n",
       "      <td>7.2574</td>\n",
       "      <td>352100.0</td>\n",
       "    </tr>\n",
       "    <tr>\n",
       "      <th>3</th>\n",
       "      <td>-122.25</td>\n",
       "      <td>37.85</td>\n",
       "      <td>52.0</td>\n",
       "      <td>1274.0</td>\n",
       "      <td>235.0</td>\n",
       "      <td>558.0</td>\n",
       "      <td>219.0</td>\n",
       "      <td>5.6431</td>\n",
       "      <td>341300.0</td>\n",
       "    </tr>\n",
       "    <tr>\n",
       "      <th>4</th>\n",
       "      <td>-122.25</td>\n",
       "      <td>37.85</td>\n",
       "      <td>52.0</td>\n",
       "      <td>1627.0</td>\n",
       "      <td>280.0</td>\n",
       "      <td>565.0</td>\n",
       "      <td>259.0</td>\n",
       "      <td>3.8462</td>\n",
       "      <td>342200.0</td>\n",
       "    </tr>\n",
       "  </tbody>\n",
       "</table>\n",
       "</div>"
      ],
      "text/plain": [
       "   longitude  latitude  housing_median_age  total_rooms  total_bedrooms  \\\n",
       "0    -122.23     37.88                41.0        880.0           129.0   \n",
       "1    -122.22     37.86                21.0       7099.0          1106.0   \n",
       "2    -122.24     37.85                52.0       1467.0           190.0   \n",
       "3    -122.25     37.85                52.0       1274.0           235.0   \n",
       "4    -122.25     37.85                52.0       1627.0           280.0   \n",
       "\n",
       "   population  households  median_income  median_house_value  \n",
       "0       322.0       126.0         8.3252            452600.0  \n",
       "1      2401.0      1138.0         8.3014            358500.0  \n",
       "2       496.0       177.0         7.2574            352100.0  \n",
       "3       558.0       219.0         5.6431            341300.0  \n",
       "4       565.0       259.0         3.8462            342200.0  "
      ]
     },
     "execution_count": 5,
     "metadata": {},
     "output_type": "execute_result"
    }
   ],
   "source": [
    "housing1.drop('ocean_proximity', axis=1).head()"
   ]
  },
  {
   "cell_type": "code",
   "execution_count": 6,
   "id": "0918e66b",
   "metadata": {
    "execution": {
     "iopub.execute_input": "2022-07-08T15:20:50.109213Z",
     "iopub.status.busy": "2022-07-08T15:20:50.108802Z",
     "iopub.status.idle": "2022-07-08T15:20:50.144888Z",
     "shell.execute_reply": "2022-07-08T15:20:50.143734Z"
    },
    "papermill": {
     "duration": 0.050059,
     "end_time": "2022-07-08T15:20:50.147489",
     "exception": false,
     "start_time": "2022-07-08T15:20:50.097430",
     "status": "completed"
    },
    "tags": []
   },
   "outputs": [
    {
     "data": {
      "text/html": [
       "<div>\n",
       "<style scoped>\n",
       "    .dataframe tbody tr th:only-of-type {\n",
       "        vertical-align: middle;\n",
       "    }\n",
       "\n",
       "    .dataframe tbody tr th {\n",
       "        vertical-align: top;\n",
       "    }\n",
       "\n",
       "    .dataframe thead th {\n",
       "        text-align: right;\n",
       "    }\n",
       "</style>\n",
       "<table border=\"1\" class=\"dataframe\">\n",
       "  <thead>\n",
       "    <tr style=\"text-align: right;\">\n",
       "      <th></th>\n",
       "      <th>longitude</th>\n",
       "      <th>latitude</th>\n",
       "      <th>housing_median_age</th>\n",
       "      <th>total_rooms</th>\n",
       "      <th>total_bedrooms</th>\n",
       "      <th>population</th>\n",
       "      <th>households</th>\n",
       "      <th>median_income</th>\n",
       "      <th>median_house_value</th>\n",
       "      <th>&lt;1H OCEAN</th>\n",
       "      <th>INLAND</th>\n",
       "      <th>ISLAND</th>\n",
       "      <th>NEAR BAY</th>\n",
       "      <th>NEAR OCEAN</th>\n",
       "    </tr>\n",
       "  </thead>\n",
       "  <tbody>\n",
       "    <tr>\n",
       "      <th>0</th>\n",
       "      <td>-122.23</td>\n",
       "      <td>37.88</td>\n",
       "      <td>41.0</td>\n",
       "      <td>880.0</td>\n",
       "      <td>129.0</td>\n",
       "      <td>322.0</td>\n",
       "      <td>126.0</td>\n",
       "      <td>8.3252</td>\n",
       "      <td>452600.0</td>\n",
       "      <td>0</td>\n",
       "      <td>0</td>\n",
       "      <td>0</td>\n",
       "      <td>1</td>\n",
       "      <td>0</td>\n",
       "    </tr>\n",
       "    <tr>\n",
       "      <th>1</th>\n",
       "      <td>-122.22</td>\n",
       "      <td>37.86</td>\n",
       "      <td>21.0</td>\n",
       "      <td>7099.0</td>\n",
       "      <td>1106.0</td>\n",
       "      <td>2401.0</td>\n",
       "      <td>1138.0</td>\n",
       "      <td>8.3014</td>\n",
       "      <td>358500.0</td>\n",
       "      <td>0</td>\n",
       "      <td>0</td>\n",
       "      <td>0</td>\n",
       "      <td>1</td>\n",
       "      <td>0</td>\n",
       "    </tr>\n",
       "    <tr>\n",
       "      <th>2</th>\n",
       "      <td>-122.24</td>\n",
       "      <td>37.85</td>\n",
       "      <td>52.0</td>\n",
       "      <td>1467.0</td>\n",
       "      <td>190.0</td>\n",
       "      <td>496.0</td>\n",
       "      <td>177.0</td>\n",
       "      <td>7.2574</td>\n",
       "      <td>352100.0</td>\n",
       "      <td>0</td>\n",
       "      <td>0</td>\n",
       "      <td>0</td>\n",
       "      <td>1</td>\n",
       "      <td>0</td>\n",
       "    </tr>\n",
       "    <tr>\n",
       "      <th>3</th>\n",
       "      <td>-122.25</td>\n",
       "      <td>37.85</td>\n",
       "      <td>52.0</td>\n",
       "      <td>1274.0</td>\n",
       "      <td>235.0</td>\n",
       "      <td>558.0</td>\n",
       "      <td>219.0</td>\n",
       "      <td>5.6431</td>\n",
       "      <td>341300.0</td>\n",
       "      <td>0</td>\n",
       "      <td>0</td>\n",
       "      <td>0</td>\n",
       "      <td>1</td>\n",
       "      <td>0</td>\n",
       "    </tr>\n",
       "    <tr>\n",
       "      <th>4</th>\n",
       "      <td>-122.25</td>\n",
       "      <td>37.85</td>\n",
       "      <td>52.0</td>\n",
       "      <td>1627.0</td>\n",
       "      <td>280.0</td>\n",
       "      <td>565.0</td>\n",
       "      <td>259.0</td>\n",
       "      <td>3.8462</td>\n",
       "      <td>342200.0</td>\n",
       "      <td>0</td>\n",
       "      <td>0</td>\n",
       "      <td>0</td>\n",
       "      <td>1</td>\n",
       "      <td>0</td>\n",
       "    </tr>\n",
       "    <tr>\n",
       "      <th>...</th>\n",
       "      <td>...</td>\n",
       "      <td>...</td>\n",
       "      <td>...</td>\n",
       "      <td>...</td>\n",
       "      <td>...</td>\n",
       "      <td>...</td>\n",
       "      <td>...</td>\n",
       "      <td>...</td>\n",
       "      <td>...</td>\n",
       "      <td>...</td>\n",
       "      <td>...</td>\n",
       "      <td>...</td>\n",
       "      <td>...</td>\n",
       "      <td>...</td>\n",
       "    </tr>\n",
       "    <tr>\n",
       "      <th>20635</th>\n",
       "      <td>-121.09</td>\n",
       "      <td>39.48</td>\n",
       "      <td>25.0</td>\n",
       "      <td>1665.0</td>\n",
       "      <td>374.0</td>\n",
       "      <td>845.0</td>\n",
       "      <td>330.0</td>\n",
       "      <td>1.5603</td>\n",
       "      <td>78100.0</td>\n",
       "      <td>0</td>\n",
       "      <td>1</td>\n",
       "      <td>0</td>\n",
       "      <td>0</td>\n",
       "      <td>0</td>\n",
       "    </tr>\n",
       "    <tr>\n",
       "      <th>20636</th>\n",
       "      <td>-121.21</td>\n",
       "      <td>39.49</td>\n",
       "      <td>18.0</td>\n",
       "      <td>697.0</td>\n",
       "      <td>150.0</td>\n",
       "      <td>356.0</td>\n",
       "      <td>114.0</td>\n",
       "      <td>2.5568</td>\n",
       "      <td>77100.0</td>\n",
       "      <td>0</td>\n",
       "      <td>1</td>\n",
       "      <td>0</td>\n",
       "      <td>0</td>\n",
       "      <td>0</td>\n",
       "    </tr>\n",
       "    <tr>\n",
       "      <th>20637</th>\n",
       "      <td>-121.22</td>\n",
       "      <td>39.43</td>\n",
       "      <td>17.0</td>\n",
       "      <td>2254.0</td>\n",
       "      <td>485.0</td>\n",
       "      <td>1007.0</td>\n",
       "      <td>433.0</td>\n",
       "      <td>1.7000</td>\n",
       "      <td>92300.0</td>\n",
       "      <td>0</td>\n",
       "      <td>1</td>\n",
       "      <td>0</td>\n",
       "      <td>0</td>\n",
       "      <td>0</td>\n",
       "    </tr>\n",
       "    <tr>\n",
       "      <th>20638</th>\n",
       "      <td>-121.32</td>\n",
       "      <td>39.43</td>\n",
       "      <td>18.0</td>\n",
       "      <td>1860.0</td>\n",
       "      <td>409.0</td>\n",
       "      <td>741.0</td>\n",
       "      <td>349.0</td>\n",
       "      <td>1.8672</td>\n",
       "      <td>84700.0</td>\n",
       "      <td>0</td>\n",
       "      <td>1</td>\n",
       "      <td>0</td>\n",
       "      <td>0</td>\n",
       "      <td>0</td>\n",
       "    </tr>\n",
       "    <tr>\n",
       "      <th>20639</th>\n",
       "      <td>-121.24</td>\n",
       "      <td>39.37</td>\n",
       "      <td>16.0</td>\n",
       "      <td>2785.0</td>\n",
       "      <td>616.0</td>\n",
       "      <td>1387.0</td>\n",
       "      <td>530.0</td>\n",
       "      <td>2.3886</td>\n",
       "      <td>89400.0</td>\n",
       "      <td>0</td>\n",
       "      <td>1</td>\n",
       "      <td>0</td>\n",
       "      <td>0</td>\n",
       "      <td>0</td>\n",
       "    </tr>\n",
       "  </tbody>\n",
       "</table>\n",
       "<p>20640 rows × 14 columns</p>\n",
       "</div>"
      ],
      "text/plain": [
       "       longitude  latitude  housing_median_age  total_rooms  total_bedrooms  \\\n",
       "0        -122.23     37.88                41.0        880.0           129.0   \n",
       "1        -122.22     37.86                21.0       7099.0          1106.0   \n",
       "2        -122.24     37.85                52.0       1467.0           190.0   \n",
       "3        -122.25     37.85                52.0       1274.0           235.0   \n",
       "4        -122.25     37.85                52.0       1627.0           280.0   \n",
       "...          ...       ...                 ...          ...             ...   \n",
       "20635    -121.09     39.48                25.0       1665.0           374.0   \n",
       "20636    -121.21     39.49                18.0        697.0           150.0   \n",
       "20637    -121.22     39.43                17.0       2254.0           485.0   \n",
       "20638    -121.32     39.43                18.0       1860.0           409.0   \n",
       "20639    -121.24     39.37                16.0       2785.0           616.0   \n",
       "\n",
       "       population  households  median_income  median_house_value  <1H OCEAN  \\\n",
       "0           322.0       126.0         8.3252            452600.0          0   \n",
       "1          2401.0      1138.0         8.3014            358500.0          0   \n",
       "2           496.0       177.0         7.2574            352100.0          0   \n",
       "3           558.0       219.0         5.6431            341300.0          0   \n",
       "4           565.0       259.0         3.8462            342200.0          0   \n",
       "...           ...         ...            ...                 ...        ...   \n",
       "20635       845.0       330.0         1.5603             78100.0          0   \n",
       "20636       356.0       114.0         2.5568             77100.0          0   \n",
       "20637      1007.0       433.0         1.7000             92300.0          0   \n",
       "20638       741.0       349.0         1.8672             84700.0          0   \n",
       "20639      1387.0       530.0         2.3886             89400.0          0   \n",
       "\n",
       "       INLAND  ISLAND  NEAR BAY  NEAR OCEAN  \n",
       "0           0       0         1           0  \n",
       "1           0       0         1           0  \n",
       "2           0       0         1           0  \n",
       "3           0       0         1           0  \n",
       "4           0       0         1           0  \n",
       "...       ...     ...       ...         ...  \n",
       "20635       1       0         0           0  \n",
       "20636       1       0         0           0  \n",
       "20637       1       0         0           0  \n",
       "20638       1       0         0           0  \n",
       "20639       1       0         0           0  \n",
       "\n",
       "[20640 rows x 14 columns]"
      ]
     },
     "execution_count": 6,
     "metadata": {},
     "output_type": "execute_result"
    }
   ],
   "source": [
    "housing2 = pd.concat([housing1.drop('ocean_proximity', axis=1),\n",
    "                              pd.get_dummies(housing1['ocean_proximity'])], axis=1)\n",
    "housing2"
   ]
  },
  {
   "cell_type": "markdown",
   "id": "4767a383",
   "metadata": {
    "papermill": {
     "duration": 0.008322,
     "end_time": "2022-07-08T15:20:50.164219",
     "exception": false,
     "start_time": "2022-07-08T15:20:50.155897",
     "status": "completed"
    },
    "tags": []
   },
   "source": [
    "### Deal with missing data (used KNN imputation)"
   ]
  },
  {
   "cell_type": "code",
   "execution_count": 7,
   "id": "9d62c66b",
   "metadata": {
    "execution": {
     "iopub.execute_input": "2022-07-08T15:20:50.183054Z",
     "iopub.status.busy": "2022-07-08T15:20:50.182640Z",
     "iopub.status.idle": "2022-07-08T15:20:51.885021Z",
     "shell.execute_reply": "2022-07-08T15:20:51.883841Z"
    },
    "papermill": {
     "duration": 1.716632,
     "end_time": "2022-07-08T15:20:51.889375",
     "exception": false,
     "start_time": "2022-07-08T15:20:50.172743",
     "status": "completed"
    },
    "tags": []
   },
   "outputs": [
    {
     "name": "stdout",
     "output_type": "stream",
     "text": [
      "<class 'pandas.core.frame.DataFrame'>\n",
      "RangeIndex: 20640 entries, 0 to 20639\n",
      "Data columns (total 14 columns):\n",
      " #   Column              Non-Null Count  Dtype  \n",
      "---  ------              --------------  -----  \n",
      " 0   longitude           20640 non-null  float64\n",
      " 1   latitude            20640 non-null  float64\n",
      " 2   housing_median_age  20640 non-null  float64\n",
      " 3   total_rooms         20640 non-null  float64\n",
      " 4   total_bedrooms      20640 non-null  float64\n",
      " 5   population          20640 non-null  float64\n",
      " 6   households          20640 non-null  float64\n",
      " 7   median_income       20640 non-null  float64\n",
      " 8   median_house_value  20640 non-null  float64\n",
      " 9   <1H OCEAN           20640 non-null  float64\n",
      " 10  INLAND              20640 non-null  float64\n",
      " 11  ISLAND              20640 non-null  float64\n",
      " 12  NEAR BAY            20640 non-null  float64\n",
      " 13  NEAR OCEAN          20640 non-null  float64\n",
      "dtypes: float64(14)\n",
      "memory usage: 2.2 MB\n"
     ]
    }
   ],
   "source": [
    "from sklearn.impute import KNNImputer\n",
    "imputer = KNNImputer()\n",
    "imputation = imputer.fit_transform(housing2)\n",
    "housing3 = pd.DataFrame(imputation, columns = housing2.columns)\n",
    "housing3.info()"
   ]
  },
  {
   "cell_type": "markdown",
   "id": "9fba5560",
   "metadata": {
    "papermill": {
     "duration": 0.008432,
     "end_time": "2022-07-08T15:20:51.906240",
     "exception": false,
     "start_time": "2022-07-08T15:20:51.897808",
     "status": "completed"
    },
    "tags": []
   },
   "source": [
    "### Put target variable column as final column\n"
   ]
  },
  {
   "cell_type": "code",
   "execution_count": 8,
   "id": "0d1a39ed",
   "metadata": {
    "execution": {
     "iopub.execute_input": "2022-07-08T15:20:51.926173Z",
     "iopub.status.busy": "2022-07-08T15:20:51.925529Z",
     "iopub.status.idle": "2022-07-08T15:20:51.961028Z",
     "shell.execute_reply": "2022-07-08T15:20:51.959906Z"
    },
    "papermill": {
     "duration": 0.048807,
     "end_time": "2022-07-08T15:20:51.963588",
     "exception": false,
     "start_time": "2022-07-08T15:20:51.914781",
     "status": "completed"
    },
    "tags": []
   },
   "outputs": [
    {
     "data": {
      "text/html": [
       "<div>\n",
       "<style scoped>\n",
       "    .dataframe tbody tr th:only-of-type {\n",
       "        vertical-align: middle;\n",
       "    }\n",
       "\n",
       "    .dataframe tbody tr th {\n",
       "        vertical-align: top;\n",
       "    }\n",
       "\n",
       "    .dataframe thead th {\n",
       "        text-align: right;\n",
       "    }\n",
       "</style>\n",
       "<table border=\"1\" class=\"dataframe\">\n",
       "  <thead>\n",
       "    <tr style=\"text-align: right;\">\n",
       "      <th></th>\n",
       "      <th>longitude</th>\n",
       "      <th>latitude</th>\n",
       "      <th>housing_median_age</th>\n",
       "      <th>total_rooms</th>\n",
       "      <th>total_bedrooms</th>\n",
       "      <th>population</th>\n",
       "      <th>households</th>\n",
       "      <th>median_income</th>\n",
       "      <th>&lt;1H OCEAN</th>\n",
       "      <th>INLAND</th>\n",
       "      <th>ISLAND</th>\n",
       "      <th>NEAR BAY</th>\n",
       "      <th>NEAR OCEAN</th>\n",
       "      <th>median_house_value</th>\n",
       "    </tr>\n",
       "  </thead>\n",
       "  <tbody>\n",
       "    <tr>\n",
       "      <th>0</th>\n",
       "      <td>-122.23</td>\n",
       "      <td>37.88</td>\n",
       "      <td>41.0</td>\n",
       "      <td>880.0</td>\n",
       "      <td>129.0</td>\n",
       "      <td>322.0</td>\n",
       "      <td>126.0</td>\n",
       "      <td>8.3252</td>\n",
       "      <td>0.0</td>\n",
       "      <td>0.0</td>\n",
       "      <td>0.0</td>\n",
       "      <td>1.0</td>\n",
       "      <td>0.0</td>\n",
       "      <td>452600.0</td>\n",
       "    </tr>\n",
       "    <tr>\n",
       "      <th>1</th>\n",
       "      <td>-122.22</td>\n",
       "      <td>37.86</td>\n",
       "      <td>21.0</td>\n",
       "      <td>7099.0</td>\n",
       "      <td>1106.0</td>\n",
       "      <td>2401.0</td>\n",
       "      <td>1138.0</td>\n",
       "      <td>8.3014</td>\n",
       "      <td>0.0</td>\n",
       "      <td>0.0</td>\n",
       "      <td>0.0</td>\n",
       "      <td>1.0</td>\n",
       "      <td>0.0</td>\n",
       "      <td>358500.0</td>\n",
       "    </tr>\n",
       "    <tr>\n",
       "      <th>2</th>\n",
       "      <td>-122.24</td>\n",
       "      <td>37.85</td>\n",
       "      <td>52.0</td>\n",
       "      <td>1467.0</td>\n",
       "      <td>190.0</td>\n",
       "      <td>496.0</td>\n",
       "      <td>177.0</td>\n",
       "      <td>7.2574</td>\n",
       "      <td>0.0</td>\n",
       "      <td>0.0</td>\n",
       "      <td>0.0</td>\n",
       "      <td>1.0</td>\n",
       "      <td>0.0</td>\n",
       "      <td>352100.0</td>\n",
       "    </tr>\n",
       "    <tr>\n",
       "      <th>3</th>\n",
       "      <td>-122.25</td>\n",
       "      <td>37.85</td>\n",
       "      <td>52.0</td>\n",
       "      <td>1274.0</td>\n",
       "      <td>235.0</td>\n",
       "      <td>558.0</td>\n",
       "      <td>219.0</td>\n",
       "      <td>5.6431</td>\n",
       "      <td>0.0</td>\n",
       "      <td>0.0</td>\n",
       "      <td>0.0</td>\n",
       "      <td>1.0</td>\n",
       "      <td>0.0</td>\n",
       "      <td>341300.0</td>\n",
       "    </tr>\n",
       "    <tr>\n",
       "      <th>4</th>\n",
       "      <td>-122.25</td>\n",
       "      <td>37.85</td>\n",
       "      <td>52.0</td>\n",
       "      <td>1627.0</td>\n",
       "      <td>280.0</td>\n",
       "      <td>565.0</td>\n",
       "      <td>259.0</td>\n",
       "      <td>3.8462</td>\n",
       "      <td>0.0</td>\n",
       "      <td>0.0</td>\n",
       "      <td>0.0</td>\n",
       "      <td>1.0</td>\n",
       "      <td>0.0</td>\n",
       "      <td>342200.0</td>\n",
       "    </tr>\n",
       "    <tr>\n",
       "      <th>...</th>\n",
       "      <td>...</td>\n",
       "      <td>...</td>\n",
       "      <td>...</td>\n",
       "      <td>...</td>\n",
       "      <td>...</td>\n",
       "      <td>...</td>\n",
       "      <td>...</td>\n",
       "      <td>...</td>\n",
       "      <td>...</td>\n",
       "      <td>...</td>\n",
       "      <td>...</td>\n",
       "      <td>...</td>\n",
       "      <td>...</td>\n",
       "      <td>...</td>\n",
       "    </tr>\n",
       "    <tr>\n",
       "      <th>20635</th>\n",
       "      <td>-121.09</td>\n",
       "      <td>39.48</td>\n",
       "      <td>25.0</td>\n",
       "      <td>1665.0</td>\n",
       "      <td>374.0</td>\n",
       "      <td>845.0</td>\n",
       "      <td>330.0</td>\n",
       "      <td>1.5603</td>\n",
       "      <td>0.0</td>\n",
       "      <td>1.0</td>\n",
       "      <td>0.0</td>\n",
       "      <td>0.0</td>\n",
       "      <td>0.0</td>\n",
       "      <td>78100.0</td>\n",
       "    </tr>\n",
       "    <tr>\n",
       "      <th>20636</th>\n",
       "      <td>-121.21</td>\n",
       "      <td>39.49</td>\n",
       "      <td>18.0</td>\n",
       "      <td>697.0</td>\n",
       "      <td>150.0</td>\n",
       "      <td>356.0</td>\n",
       "      <td>114.0</td>\n",
       "      <td>2.5568</td>\n",
       "      <td>0.0</td>\n",
       "      <td>1.0</td>\n",
       "      <td>0.0</td>\n",
       "      <td>0.0</td>\n",
       "      <td>0.0</td>\n",
       "      <td>77100.0</td>\n",
       "    </tr>\n",
       "    <tr>\n",
       "      <th>20637</th>\n",
       "      <td>-121.22</td>\n",
       "      <td>39.43</td>\n",
       "      <td>17.0</td>\n",
       "      <td>2254.0</td>\n",
       "      <td>485.0</td>\n",
       "      <td>1007.0</td>\n",
       "      <td>433.0</td>\n",
       "      <td>1.7000</td>\n",
       "      <td>0.0</td>\n",
       "      <td>1.0</td>\n",
       "      <td>0.0</td>\n",
       "      <td>0.0</td>\n",
       "      <td>0.0</td>\n",
       "      <td>92300.0</td>\n",
       "    </tr>\n",
       "    <tr>\n",
       "      <th>20638</th>\n",
       "      <td>-121.32</td>\n",
       "      <td>39.43</td>\n",
       "      <td>18.0</td>\n",
       "      <td>1860.0</td>\n",
       "      <td>409.0</td>\n",
       "      <td>741.0</td>\n",
       "      <td>349.0</td>\n",
       "      <td>1.8672</td>\n",
       "      <td>0.0</td>\n",
       "      <td>1.0</td>\n",
       "      <td>0.0</td>\n",
       "      <td>0.0</td>\n",
       "      <td>0.0</td>\n",
       "      <td>84700.0</td>\n",
       "    </tr>\n",
       "    <tr>\n",
       "      <th>20639</th>\n",
       "      <td>-121.24</td>\n",
       "      <td>39.37</td>\n",
       "      <td>16.0</td>\n",
       "      <td>2785.0</td>\n",
       "      <td>616.0</td>\n",
       "      <td>1387.0</td>\n",
       "      <td>530.0</td>\n",
       "      <td>2.3886</td>\n",
       "      <td>0.0</td>\n",
       "      <td>1.0</td>\n",
       "      <td>0.0</td>\n",
       "      <td>0.0</td>\n",
       "      <td>0.0</td>\n",
       "      <td>89400.0</td>\n",
       "    </tr>\n",
       "  </tbody>\n",
       "</table>\n",
       "<p>20640 rows × 14 columns</p>\n",
       "</div>"
      ],
      "text/plain": [
       "       longitude  latitude  housing_median_age  total_rooms  total_bedrooms  \\\n",
       "0        -122.23     37.88                41.0        880.0           129.0   \n",
       "1        -122.22     37.86                21.0       7099.0          1106.0   \n",
       "2        -122.24     37.85                52.0       1467.0           190.0   \n",
       "3        -122.25     37.85                52.0       1274.0           235.0   \n",
       "4        -122.25     37.85                52.0       1627.0           280.0   \n",
       "...          ...       ...                 ...          ...             ...   \n",
       "20635    -121.09     39.48                25.0       1665.0           374.0   \n",
       "20636    -121.21     39.49                18.0        697.0           150.0   \n",
       "20637    -121.22     39.43                17.0       2254.0           485.0   \n",
       "20638    -121.32     39.43                18.0       1860.0           409.0   \n",
       "20639    -121.24     39.37                16.0       2785.0           616.0   \n",
       "\n",
       "       population  households  median_income  <1H OCEAN  INLAND  ISLAND  \\\n",
       "0           322.0       126.0         8.3252        0.0     0.0     0.0   \n",
       "1          2401.0      1138.0         8.3014        0.0     0.0     0.0   \n",
       "2           496.0       177.0         7.2574        0.0     0.0     0.0   \n",
       "3           558.0       219.0         5.6431        0.0     0.0     0.0   \n",
       "4           565.0       259.0         3.8462        0.0     0.0     0.0   \n",
       "...           ...         ...            ...        ...     ...     ...   \n",
       "20635       845.0       330.0         1.5603        0.0     1.0     0.0   \n",
       "20636       356.0       114.0         2.5568        0.0     1.0     0.0   \n",
       "20637      1007.0       433.0         1.7000        0.0     1.0     0.0   \n",
       "20638       741.0       349.0         1.8672        0.0     1.0     0.0   \n",
       "20639      1387.0       530.0         2.3886        0.0     1.0     0.0   \n",
       "\n",
       "       NEAR BAY  NEAR OCEAN  median_house_value  \n",
       "0           1.0         0.0            452600.0  \n",
       "1           1.0         0.0            358500.0  \n",
       "2           1.0         0.0            352100.0  \n",
       "3           1.0         0.0            341300.0  \n",
       "4           1.0         0.0            342200.0  \n",
       "...         ...         ...                 ...  \n",
       "20635       0.0         0.0             78100.0  \n",
       "20636       0.0         0.0             77100.0  \n",
       "20637       0.0         0.0             92300.0  \n",
       "20638       0.0         0.0             84700.0  \n",
       "20639       0.0         0.0             89400.0  \n",
       "\n",
       "[20640 rows x 14 columns]"
      ]
     },
     "execution_count": 8,
     "metadata": {},
     "output_type": "execute_result"
    }
   ],
   "source": [
    "housing4 = housing3[['longitude',\n",
    "                     'latitude',\n",
    "                     'housing_median_age',\n",
    "                     'total_rooms',\n",
    "                     'total_bedrooms',\n",
    "                     'population',\n",
    "                     'households',\n",
    "                     'median_income',\n",
    "                     '<1H OCEAN',\n",
    "                     'INLAND',\n",
    "                     'ISLAND',\n",
    "                     'NEAR BAY',\n",
    "                     'NEAR OCEAN',\n",
    "                     'median_house_value']]\n",
    "\n",
    "housing4"
   ]
  },
  {
   "cell_type": "markdown",
   "id": "a05f0881",
   "metadata": {
    "papermill": {
     "duration": 0.009113,
     "end_time": "2022-07-08T15:20:51.981662",
     "exception": false,
     "start_time": "2022-07-08T15:20:51.972549",
     "status": "completed"
    },
    "tags": []
   },
   "source": [
    "### Scale/normalize the training data"
   ]
  },
  {
   "cell_type": "code",
   "execution_count": 9,
   "id": "2fc422bb",
   "metadata": {
    "execution": {
     "iopub.execute_input": "2022-07-08T15:20:52.002436Z",
     "iopub.status.busy": "2022-07-08T15:20:52.002015Z",
     "iopub.status.idle": "2022-07-08T15:20:52.010259Z",
     "shell.execute_reply": "2022-07-08T15:20:52.009058Z"
    },
    "papermill": {
     "duration": 0.021022,
     "end_time": "2022-07-08T15:20:52.012487",
     "exception": false,
     "start_time": "2022-07-08T15:20:51.991465",
     "status": "completed"
    },
    "tags": []
   },
   "outputs": [
    {
     "data": {
      "text/plain": [
       "Index(['longitude', 'latitude', 'housing_median_age', 'total_rooms',\n",
       "       'total_bedrooms', 'population', 'households', 'median_income',\n",
       "       '<1H OCEAN', 'INLAND', 'ISLAND', 'NEAR BAY', 'NEAR OCEAN'],\n",
       "      dtype='object')"
      ]
     },
     "execution_count": 9,
     "metadata": {},
     "output_type": "execute_result"
    }
   ],
   "source": [
    "# list of feature names\n",
    "X_features = housing4.columns[:-1]\n",
    "X_features"
   ]
  },
  {
   "cell_type": "code",
   "execution_count": 10,
   "id": "aa2a8035",
   "metadata": {
    "execution": {
     "iopub.execute_input": "2022-07-08T15:20:52.032413Z",
     "iopub.status.busy": "2022-07-08T15:20:52.031729Z",
     "iopub.status.idle": "2022-07-08T15:20:52.039872Z",
     "shell.execute_reply": "2022-07-08T15:20:52.038681Z"
    },
    "papermill": {
     "duration": 0.020795,
     "end_time": "2022-07-08T15:20:52.042106",
     "exception": false,
     "start_time": "2022-07-08T15:20:52.021311",
     "status": "completed"
    },
    "tags": []
   },
   "outputs": [
    {
     "data": {
      "text/plain": [
       "((20640, 13), (20640,))"
      ]
     },
     "execution_count": 10,
     "metadata": {},
     "output_type": "execute_result"
    }
   ],
   "source": [
    "X_train, y_train = housing4.to_numpy()[:, :-1], housing4.to_numpy()[:, -1]\n",
    "\n",
    "X_train.shape, y_train.shape"
   ]
  },
  {
   "cell_type": "code",
   "execution_count": 11,
   "id": "4ef96a27",
   "metadata": {
    "execution": {
     "iopub.execute_input": "2022-07-08T15:20:52.062797Z",
     "iopub.status.busy": "2022-07-08T15:20:52.062153Z",
     "iopub.status.idle": "2022-07-08T15:20:52.071889Z",
     "shell.execute_reply": "2022-07-08T15:20:52.070906Z"
    },
    "papermill": {
     "duration": 0.022798,
     "end_time": "2022-07-08T15:20:52.074456",
     "exception": false,
     "start_time": "2022-07-08T15:20:52.051658",
     "status": "completed"
    },
    "tags": []
   },
   "outputs": [],
   "source": [
    "from sklearn.preprocessing import StandardScaler\n",
    "import numpy as np\n",
    "\n",
    "scaler = StandardScaler()\n",
    "\n",
    "def preprocessor(X):\n",
    "  A = np.copy(X)\n",
    "  A[:, :8] = scaler.fit_transform(A[:, :8])\n",
    "  return A\n",
    "\n",
    "X_train = preprocessor(X_train)"
   ]
  },
  {
   "cell_type": "code",
   "execution_count": 12,
   "id": "ec27f5af",
   "metadata": {
    "execution": {
     "iopub.execute_input": "2022-07-08T15:20:52.094714Z",
     "iopub.status.busy": "2022-07-08T15:20:52.094307Z",
     "iopub.status.idle": "2022-07-08T15:20:52.118040Z",
     "shell.execute_reply": "2022-07-08T15:20:52.116697Z"
    },
    "papermill": {
     "duration": 0.036566,
     "end_time": "2022-07-08T15:20:52.120318",
     "exception": false,
     "start_time": "2022-07-08T15:20:52.083752",
     "status": "completed"
    },
    "tags": []
   },
   "outputs": [
    {
     "data": {
      "text/html": [
       "<div>\n",
       "<style scoped>\n",
       "    .dataframe tbody tr th:only-of-type {\n",
       "        vertical-align: middle;\n",
       "    }\n",
       "\n",
       "    .dataframe tbody tr th {\n",
       "        vertical-align: top;\n",
       "    }\n",
       "\n",
       "    .dataframe thead th {\n",
       "        text-align: right;\n",
       "    }\n",
       "</style>\n",
       "<table border=\"1\" class=\"dataframe\">\n",
       "  <thead>\n",
       "    <tr style=\"text-align: right;\">\n",
       "      <th></th>\n",
       "      <th>0</th>\n",
       "      <th>1</th>\n",
       "      <th>2</th>\n",
       "      <th>3</th>\n",
       "      <th>4</th>\n",
       "      <th>5</th>\n",
       "      <th>6</th>\n",
       "      <th>7</th>\n",
       "      <th>8</th>\n",
       "      <th>9</th>\n",
       "      <th>10</th>\n",
       "      <th>11</th>\n",
       "      <th>12</th>\n",
       "    </tr>\n",
       "  </thead>\n",
       "  <tbody>\n",
       "    <tr>\n",
       "      <th>0</th>\n",
       "      <td>-1.327835</td>\n",
       "      <td>1.052548</td>\n",
       "      <td>0.982143</td>\n",
       "      <td>-0.804819</td>\n",
       "      <td>-0.971865</td>\n",
       "      <td>-0.974429</td>\n",
       "      <td>-0.977033</td>\n",
       "      <td>2.344766</td>\n",
       "      <td>0.0</td>\n",
       "      <td>0.0</td>\n",
       "      <td>0.0</td>\n",
       "      <td>1.0</td>\n",
       "      <td>0.0</td>\n",
       "    </tr>\n",
       "    <tr>\n",
       "      <th>1</th>\n",
       "      <td>-1.322844</td>\n",
       "      <td>1.043185</td>\n",
       "      <td>-0.607019</td>\n",
       "      <td>2.045890</td>\n",
       "      <td>1.352103</td>\n",
       "      <td>0.861439</td>\n",
       "      <td>1.669961</td>\n",
       "      <td>2.332238</td>\n",
       "      <td>0.0</td>\n",
       "      <td>0.0</td>\n",
       "      <td>0.0</td>\n",
       "      <td>1.0</td>\n",
       "      <td>0.0</td>\n",
       "    </tr>\n",
       "    <tr>\n",
       "      <th>2</th>\n",
       "      <td>-1.332827</td>\n",
       "      <td>1.038503</td>\n",
       "      <td>1.856182</td>\n",
       "      <td>-0.535746</td>\n",
       "      <td>-0.826766</td>\n",
       "      <td>-0.820777</td>\n",
       "      <td>-0.843637</td>\n",
       "      <td>1.782699</td>\n",
       "      <td>0.0</td>\n",
       "      <td>0.0</td>\n",
       "      <td>0.0</td>\n",
       "      <td>1.0</td>\n",
       "      <td>0.0</td>\n",
       "    </tr>\n",
       "    <tr>\n",
       "      <th>3</th>\n",
       "      <td>-1.337818</td>\n",
       "      <td>1.038503</td>\n",
       "      <td>1.856182</td>\n",
       "      <td>-0.624215</td>\n",
       "      <td>-0.719725</td>\n",
       "      <td>-0.766028</td>\n",
       "      <td>-0.733781</td>\n",
       "      <td>0.932968</td>\n",
       "      <td>0.0</td>\n",
       "      <td>0.0</td>\n",
       "      <td>0.0</td>\n",
       "      <td>1.0</td>\n",
       "      <td>0.0</td>\n",
       "    </tr>\n",
       "    <tr>\n",
       "      <th>4</th>\n",
       "      <td>-1.337818</td>\n",
       "      <td>1.038503</td>\n",
       "      <td>1.856182</td>\n",
       "      <td>-0.462404</td>\n",
       "      <td>-0.612685</td>\n",
       "      <td>-0.759847</td>\n",
       "      <td>-0.629157</td>\n",
       "      <td>-0.012881</td>\n",
       "      <td>0.0</td>\n",
       "      <td>0.0</td>\n",
       "      <td>0.0</td>\n",
       "      <td>1.0</td>\n",
       "      <td>0.0</td>\n",
       "    </tr>\n",
       "  </tbody>\n",
       "</table>\n",
       "</div>"
      ],
      "text/plain": [
       "         0         1         2         3         4         5         6   \\\n",
       "0 -1.327835  1.052548  0.982143 -0.804819 -0.971865 -0.974429 -0.977033   \n",
       "1 -1.322844  1.043185 -0.607019  2.045890  1.352103  0.861439  1.669961   \n",
       "2 -1.332827  1.038503  1.856182 -0.535746 -0.826766 -0.820777 -0.843637   \n",
       "3 -1.337818  1.038503  1.856182 -0.624215 -0.719725 -0.766028 -0.733781   \n",
       "4 -1.337818  1.038503  1.856182 -0.462404 -0.612685 -0.759847 -0.629157   \n",
       "\n",
       "         7    8    9    10   11   12  \n",
       "0  2.344766  0.0  0.0  0.0  1.0  0.0  \n",
       "1  2.332238  0.0  0.0  0.0  1.0  0.0  \n",
       "2  1.782699  0.0  0.0  0.0  1.0  0.0  \n",
       "3  0.932968  0.0  0.0  0.0  1.0  0.0  \n",
       "4 -0.012881  0.0  0.0  0.0  1.0  0.0  "
      ]
     },
     "execution_count": 12,
     "metadata": {},
     "output_type": "execute_result"
    }
   ],
   "source": [
    "pd.DataFrame(X_train).head()"
   ]
  },
  {
   "cell_type": "markdown",
   "id": "6ce9c014",
   "metadata": {
    "papermill": {
     "duration": 0.008867,
     "end_time": "2022-07-08T15:20:52.138696",
     "exception": false,
     "start_time": "2022-07-08T15:20:52.129829",
     "status": "completed"
    },
    "tags": []
   },
   "source": [
    "### Create and fit the regression model (gradient descent)"
   ]
  },
  {
   "cell_type": "code",
   "execution_count": 13,
   "id": "85012599",
   "metadata": {
    "execution": {
     "iopub.execute_input": "2022-07-08T15:20:52.159632Z",
     "iopub.status.busy": "2022-07-08T15:20:52.158826Z",
     "iopub.status.idle": "2022-07-08T15:20:52.265788Z",
     "shell.execute_reply": "2022-07-08T15:20:52.264449Z"
    },
    "papermill": {
     "duration": 0.120651,
     "end_time": "2022-07-08T15:20:52.268733",
     "exception": false,
     "start_time": "2022-07-08T15:20:52.148082",
     "status": "completed"
    },
    "tags": []
   },
   "outputs": [
    {
     "name": "stdout",
     "output_type": "stream",
     "text": [
      "number of iterations completed: 37, number of weight updates: 763681.0\n"
     ]
    }
   ],
   "source": [
    "from sklearn.linear_model import SGDRegressor\n",
    "sgdr = SGDRegressor(max_iter=1000)\n",
    "sgdr.fit(X_train, y_train)\n",
    "print(f\"number of iterations completed: {sgdr.n_iter_}, number of weight updates: {sgdr.t_}\")"
   ]
  },
  {
   "cell_type": "markdown",
   "id": "db338cb4",
   "metadata": {
    "papermill": {
     "duration": 0.009401,
     "end_time": "2022-07-08T15:20:52.287609",
     "exception": false,
     "start_time": "2022-07-08T15:20:52.278208",
     "status": "completed"
    },
    "tags": []
   },
   "source": [
    "### View Parameters"
   ]
  },
  {
   "cell_type": "code",
   "execution_count": 14,
   "id": "c88fb89f",
   "metadata": {
    "execution": {
     "iopub.execute_input": "2022-07-08T15:20:52.309513Z",
     "iopub.status.busy": "2022-07-08T15:20:52.309106Z",
     "iopub.status.idle": "2022-07-08T15:20:52.315614Z",
     "shell.execute_reply": "2022-07-08T15:20:52.314146Z"
    },
    "papermill": {
     "duration": 0.021259,
     "end_time": "2022-07-08T15:20:52.318889",
     "exception": false,
     "start_time": "2022-07-08T15:20:52.297630",
     "status": "completed"
    },
    "tags": []
   },
   "outputs": [
    {
     "name": "stdout",
     "output_type": "stream",
     "text": [
      "model parameters: w: [-52822.86 -55536.64  12452.24 -11947.99  39517.76 -44269.89  22289.44\n",
      "  75294.71  47875.41   7837.69  16053.88  42870.93  52079.64], b:[172458.15]\n"
     ]
    }
   ],
   "source": [
    "b_train = sgdr.intercept_\n",
    "w_train = sgdr.coef_\n",
    "print(f\"model parameters: w: {w_train}, b:{b_train}\")"
   ]
  },
  {
   "cell_type": "markdown",
   "id": "94a4c9e9",
   "metadata": {
    "papermill": {
     "duration": 0.009456,
     "end_time": "2022-07-08T15:20:52.338672",
     "exception": false,
     "start_time": "2022-07-08T15:20:52.329216",
     "status": "completed"
    },
    "tags": []
   },
   "source": [
    "### Predictions"
   ]
  },
  {
   "cell_type": "code",
   "execution_count": 15,
   "id": "86c24c06",
   "metadata": {
    "execution": {
     "iopub.execute_input": "2022-07-08T15:20:52.361169Z",
     "iopub.status.busy": "2022-07-08T15:20:52.360775Z",
     "iopub.status.idle": "2022-07-08T15:20:52.381292Z",
     "shell.execute_reply": "2022-07-08T15:20:52.379994Z"
    },
    "papermill": {
     "duration": 0.035188,
     "end_time": "2022-07-08T15:20:52.384921",
     "exception": false,
     "start_time": "2022-07-08T15:20:52.349733",
     "status": "completed"
    },
    "tags": []
   },
   "outputs": [
    {
     "name": "stdout",
     "output_type": "stream",
     "text": [
      "prediction using np.dot() and sgdr.predict match: True\n",
      "Prediction on training set:\n",
      "[408362.85 423391.49 376659.98 318255.21 251392.88]\n",
      "Target values \n",
      "[452600. 358500. 352100. 341300. 342200.]\n"
     ]
    }
   ],
   "source": [
    "# make a prediction using sgdr.predict()\n",
    "y_pred_sgd = sgdr.predict(X_train)\n",
    "# make a prediction using w,b. \n",
    "y_pred = np.dot(X_train, w_train) + b_train\n",
    "print(f\"prediction using np.dot() and sgdr.predict match: {(y_pred == y_pred_sgd).all()}\")\n",
    "\n",
    "print(f\"Prediction on training set:\\n{y_pred[:5]}\" )\n",
    "print(f\"Target values \\n{y_train[:5]}\")"
   ]
  },
  {
   "cell_type": "code",
   "execution_count": 16,
   "id": "d328afdc",
   "metadata": {
    "execution": {
     "iopub.execute_input": "2022-07-08T15:20:52.423158Z",
     "iopub.status.busy": "2022-07-08T15:20:52.422535Z",
     "iopub.status.idle": "2022-07-08T15:20:52.434567Z",
     "shell.execute_reply": "2022-07-08T15:20:52.433328Z"
    },
    "papermill": {
     "duration": 0.034915,
     "end_time": "2022-07-08T15:20:52.438106",
     "exception": false,
     "start_time": "2022-07-08T15:20:52.403191",
     "status": "completed"
    },
    "tags": []
   },
   "outputs": [
    {
     "data": {
      "text/plain": [
       "68764.35856796397"
      ]
     },
     "execution_count": 16,
     "metadata": {},
     "output_type": "execute_result"
    }
   ],
   "source": [
    "from sklearn.metrics import mean_squared_error as mse\n",
    "mse(sgdr.predict(X_train), y_train, squared=False)"
   ]
  },
  {
   "cell_type": "markdown",
   "id": "0d51b1bc",
   "metadata": {
    "papermill": {
     "duration": 0.017298,
     "end_time": "2022-07-08T15:20:52.473066",
     "exception": false,
     "start_time": "2022-07-08T15:20:52.455768",
     "status": "completed"
    },
    "tags": []
   },
   "source": [
    "### Plotting results"
   ]
  },
  {
   "cell_type": "code",
   "execution_count": 17,
   "id": "2951a184",
   "metadata": {
    "execution": {
     "iopub.execute_input": "2022-07-08T15:20:52.512146Z",
     "iopub.status.busy": "2022-07-08T15:20:52.511510Z",
     "iopub.status.idle": "2022-07-08T15:20:55.830203Z",
     "shell.execute_reply": "2022-07-08T15:20:55.828844Z"
    },
    "papermill": {
     "duration": 3.342134,
     "end_time": "2022-07-08T15:20:55.833202",
     "exception": false,
     "start_time": "2022-07-08T15:20:52.491068",
     "status": "completed"
    },
    "tags": []
   },
   "outputs": [
    {
     "data": {
      "image/png": "[encoded data removed]",
      "text/plain": [
       "<Figure size 864x216 with 13 Axes>"
      ]
     },
     "metadata": {
      "needs_background": "light"
     },
     "output_type": "display_data"
    }
   ],
   "source": [
    "import matplotlib.pyplot as plt\n",
    "\n",
    "# plot predictions and targets vs original features    \n",
    "fig,ax=plt.subplots(1,len(X_features),figsize=(12,3),sharey=True)\n",
    "for i in range(len(ax)):\n",
    "    ax[i].scatter(X_train[:,i],y_train, label = 'target', s = 0.1)\n",
    "    ax[i].set_xlabel(X_features[i])\n",
    "    ax[i].scatter(X_train[:,i],y_pred, label = 'predict', s = 0.1)\n",
    "ax[0].set_ylabel(\"Price\"); ax[0].legend();\n",
    "fig.suptitle(\"target versus prediction using z-score normalized model\")\n",
    "plt.show()"
   ]
  }
 ],
 "metadata": {
  "kernelspec": {
   "display_name": "Python 3",
   "language": "python",
   "name": "python3"
  },
  "language_info": {
   "codemirror_mode": {
    "name": "ipython",
    "version": 3
   },
   "file_extension": ".py",
   "mimetype": "text/x-python",
   "name": "python",
   "nbconvert_exporter": "python",
   "pygments_lexer": "ipython3",
   "version": "3.7.12"
  },
  "papermill": {
   "default_parameters": {},
   "duration": 17.406505,
   "end_time": "2022-07-08T15:20:56.667840",
   "environment_variables": {},
   "exception": null,
   "input_path": "__notebook__.ipynb",
   "output_path": "__notebook__.ipynb",
   "parameters": {},
   "start_time": "2022-07-08T15:20:39.261335",
   "version": "2.3.4"
  }
 },
 "nbformat": 4,
 "nbformat_minor": 5
}
